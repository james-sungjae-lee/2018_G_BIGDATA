{
 "cells": [
  {
   "cell_type": "code",
   "execution_count": 1,
   "metadata": {},
   "outputs": [],
   "source": [
    "import pandas as pd\n",
    "import numpy as np"
   ]
  },
  {
   "cell_type": "code",
   "execution_count": 5,
   "metadata": {},
   "outputs": [],
   "source": [
    "pre_done = pd.read_csv('color_final.txt', encoding='utf-8')"
   ]
  },
  {
   "cell_type": "code",
   "execution_count": 8,
   "metadata": {
    "scrolled": true
   },
   "outputs": [
    {
     "name": "stdout",
     "output_type": "stream",
     "text": [
      "<class 'pandas.core.frame.DataFrame'>\n",
      "RangeIndex: 152949 entries, 0 to 152948\n",
      "Data columns (total 24 columns):\n",
      "age             152949 non-null int64\n",
      "careNm          152949 non-null object\n",
      "colorCd         152949 non-null object\n",
      "neuterYn        152949 non-null object\n",
      "noticeEdt       152949 non-null int64\n",
      "noticeSdt       152949 non-null int64\n",
      "processState    152949 non-null object\n",
      "sexCd           152949 non-null object\n",
      "kind            152949 non-null object\n",
      "care1           152949 non-null object\n",
      "care2           152949 non-null object\n",
      "care3           152949 non-null object\n",
      "care4           152315 non-null object\n",
      "noticeNo        152949 non-null int64\n",
      "noticeRange     152949 non-null int64\n",
      "weight          152167 non-null float64\n",
      "happenYear      152949 non-null int64\n",
      "happenMonth     152949 non-null int64\n",
      "happenDay       152949 non-null int64\n",
      "sad             152949 non-null bool\n",
      "good            152949 non-null bool\n",
      "safe            152949 non-null bool\n",
      "item            152949 non-null bool\n",
      "Unnamed: 23     101 non-null float64\n",
      "dtypes: bool(4), float64(2), int64(8), object(10)\n",
      "memory usage: 23.9+ MB\n"
     ]
    }
   ],
   "source": [
    "pre_done.info()"
   ]
  },
  {
   "cell_type": "code",
   "execution_count": 19,
   "metadata": {},
   "outputs": [],
   "source": [
    "a = pd.DataFrame(pre_done[['care1', 'care2']])"
   ]
  },
  {
   "cell_type": "code",
   "execution_count": null,
   "metadata": {},
   "outputs": [],
   "source": [
    "dataframe[\"period\"] = dataframe[\"Year\"].map(str) + dataframe[\"quarter\"]"
   ]
  },
  {
   "cell_type": "code",
   "execution_count": 23,
   "metadata": {},
   "outputs": [],
   "source": [
    "a['care3'] = a['care1'].map(str) + ' '+ a['care2'].map(str)"
   ]
  },
  {
   "cell_type": "code",
   "execution_count": 28,
   "metadata": {},
   "outputs": [],
   "source": [
    "b = a['care3'].value_counts()"
   ]
  },
  {
   "cell_type": "code",
   "execution_count": 43,
   "metadata": {},
   "outputs": [],
   "source": [
    "b['care1'] = b.index"
   ]
  },
  {
   "cell_type": "code",
   "execution_count": 40,
   "metadata": {},
   "outputs": [],
   "source": [
    "b['care2'] = b.care1.str.split(' ').str[0]"
   ]
  },
  {
   "cell_type": "code",
   "execution_count": 45,
   "metadata": {},
   "outputs": [],
   "source": [
    "c = b.to_frame()"
   ]
  },
  {
   "cell_type": "code",
   "execution_count": 48,
   "metadata": {},
   "outputs": [],
   "source": [
    "c['care4'] = c.index "
   ]
  },
  {
   "cell_type": "code",
   "execution_count": 51,
   "metadata": {},
   "outputs": [],
   "source": [
    "c['care2'] = c.care4.str.split(' ').str[1]"
   ]
  },
  {
   "cell_type": "code",
   "execution_count": 54,
   "metadata": {},
   "outputs": [],
   "source": [
    "c = c.drop(['care4'], axis = 1)"
   ]
  },
  {
   "cell_type": "code",
   "execution_count": 58,
   "metadata": {},
   "outputs": [],
   "source": [
    "c.to_csv('map_draw.csv')"
   ]
  },
  {
   "cell_type": "code",
   "execution_count": null,
   "metadata": {},
   "outputs": [],
   "source": []
  }
 ],
 "metadata": {
  "kernelspec": {
   "display_name": "Python 3",
   "language": "python",
   "name": "python3"
  },
  "language_info": {
   "codemirror_mode": {
    "name": "ipython",
    "version": 3
   },
   "file_extension": ".py",
   "mimetype": "text/x-python",
   "name": "python",
   "nbconvert_exporter": "python",
   "pygments_lexer": "ipython3",
   "version": "3.6.5"
  }
 },
 "nbformat": 4,
 "nbformat_minor": 2
}
