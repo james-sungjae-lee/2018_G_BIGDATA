{
 "cells": [
  {
   "cell_type": "code",
   "execution_count": 1,
   "metadata": {},
   "outputs": [],
   "source": [
    "import pandas as pd\n",
    "import re"
   ]
  },
  {
   "cell_type": "code",
   "execution_count": 2,
   "metadata": {},
   "outputs": [
    {
     "name": "stderr",
     "output_type": "stream",
     "text": [
      "/anaconda3/lib/python3.6/site-packages/IPython/core/interactiveshell.py:2785: DtypeWarning: Columns (16) have mixed types. Specify dtype option on import or set low_memory=False.\n",
      "  interactivity=interactivity, compiler=compiler, result=result)\n"
     ]
    }
   ],
   "source": [
    "animal_all = pd.read_csv('animal_all_utf8.txt', encoding='utf-8')"
   ]
  },
  {
   "cell_type": "code",
   "execution_count": 3,
   "metadata": {
    "scrolled": true
   },
   "outputs": [
    {
     "data": {
      "text/html": [
       "<div>\n",
       "<style scoped>\n",
       "    .dataframe tbody tr th:only-of-type {\n",
       "        vertical-align: middle;\n",
       "    }\n",
       "\n",
       "    .dataframe tbody tr th {\n",
       "        vertical-align: top;\n",
       "    }\n",
       "\n",
       "    .dataframe thead th {\n",
       "        text-align: right;\n",
       "    }\n",
       "</style>\n",
       "<table border=\"1\" class=\"dataframe\">\n",
       "  <thead>\n",
       "    <tr style=\"text-align: right;\">\n",
       "      <th></th>\n",
       "      <th>age</th>\n",
       "      <th>careAddr</th>\n",
       "      <th>careNm</th>\n",
       "      <th>colorCd</th>\n",
       "      <th>happenDt</th>\n",
       "      <th>happenPlace</th>\n",
       "      <th>kindCd</th>\n",
       "      <th>neuterYn</th>\n",
       "      <th>noticeEdt</th>\n",
       "      <th>noticeNo</th>\n",
       "      <th>noticeSdt</th>\n",
       "      <th>popfile</th>\n",
       "      <th>processState</th>\n",
       "      <th>sexCd</th>\n",
       "      <th>specialMark</th>\n",
       "      <th>weight</th>\n",
       "      <th>Unnamed: 16</th>\n",
       "    </tr>\n",
       "  </thead>\n",
       "  <tbody>\n",
       "    <tr>\n",
       "      <th>20486</th>\n",
       "      <td>2018(년생)</td>\n",
       "      <td>전라남도 광양시 사동로 70 (중동) 1층/ 2층</td>\n",
       "      <td>광양동물메디컬센터</td>\n",
       "      <td>황색</td>\n",
       "      <td>20180531</td>\n",
       "      <td>다압면 섬진마을 주변</td>\n",
       "      <td>[개] 믹스견</td>\n",
       "      <td>N</td>\n",
       "      <td>20180611</td>\n",
       "      <td>전남-광양-2018-00154</td>\n",
       "      <td>20180601</td>\n",
       "      <td>http://www.animal.go.kr/files/shelter/2018/05/...</td>\n",
       "      <td>종료(입양)</td>\n",
       "      <td>M</td>\n",
       "      <td>수컷 2마리 ( 2주 )</td>\n",
       "      <td>0.66/0.54(Kg)</td>\n",
       "      <td>NaN</td>\n",
       "    </tr>\n",
       "  </tbody>\n",
       "</table>\n",
       "</div>"
      ],
      "text/plain": [
       "            age                     careAddr     careNm colorCd  happenDt  \\\n",
       "20486  2018(년생)  전라남도 광양시 사동로 70 (중동) 1층/ 2층  광양동물메디컬센터      황색  20180531   \n",
       "\n",
       "       happenPlace   kindCd neuterYn  noticeEdt          noticeNo  noticeSdt  \\\n",
       "20486  다압면 섬진마을 주변  [개] 믹스견        N   20180611  전남-광양-2018-00154   20180601   \n",
       "\n",
       "                                                 popfile processState sexCd  \\\n",
       "20486  http://www.animal.go.kr/files/shelter/2018/05/...       종료(입양)     M   \n",
       "\n",
       "         specialMark         weight Unnamed: 16  \n",
       "20486  수컷 2마리 ( 2주 )  0.66/0.54(Kg)         NaN  "
      ]
     },
     "execution_count": 3,
     "metadata": {},
     "output_type": "execute_result"
    }
   ],
   "source": [
    "animal_all[animal_all['weight'] == '0.66/0.54(Kg)']"
   ]
  },
  {
   "cell_type": "code",
   "execution_count": 5,
   "metadata": {},
   "outputs": [
    {
     "data": {
      "text/plain": [
       "구청 당직실                     612\n",
       "구청당직실                      414\n",
       "부평구청당직실                    395\n",
       "성남소방서                      332\n",
       "남구청                        229\n",
       "달서구청 당직실                   209\n",
       "부평구청 당직실                   199\n",
       "서구 쌍촌동                     178\n",
       "서구 화정동                     171\n",
       "성호대로141                    168\n",
       "북구청 당직실                    167\n",
       "남구청 당직실                    164\n",
       "북구 본촌동                     158\n",
       "금곡동                        157\n",
       "처인구청                       151\n",
       "북구 용봉동                     150\n",
       "동구청 당직실                    142\n",
       "북구 운암동                     134\n",
       "계양구청 당직실                   134\n",
       "수성구청당직실                    132\n",
       "북구 두암동                     132\n",
       "서부구조대                      129\n",
       "화성소방서                      128\n",
       "연수구청                       121\n",
       "감일지구                       121\n",
       "북구 양산동                     120\n",
       "중리동                        119\n",
       "사상구청 당직실                   111\n",
       "가정동물병원                     111\n",
       "서구 풍암동                     110\n",
       "                          ... \n",
       "충주시충열5길24(단월동)               1\n",
       "풍남동 풍남 게스트하우스                1\n",
       "대전광역시 대덕구 석봉로38번길 11 주변      1\n",
       "부산광역시 금정구 대두로 29번길27         1\n",
       "홍도동 4-11번지 주변                1\n",
       "신월7동시영아파트10동 (다음5-45)        1\n",
       "송악사거리                        1\n",
       "도마네거리 홍산한의원 인근               1\n",
       "낙동북로 108번길 31                1\n",
       "중화동 체육공원                     1\n",
       "산북동 드림카 멀티&#49406;앞          1\n",
       "대전광역시 유성구 계산동 미학@ 인근         1\n",
       "과천시청 당직실(문원동 웃배랭이길 64)       1\n",
       "가곡리380                       1\n",
       "경북 포항시 북구 흥해읍 흥해로 78         1\n",
       "거창읍 군청로터리 부근                 1\n",
       "고렴리 947-7                    1\n",
       "옥포동 더샴프 미용실 앞                1\n",
       "제도로 979-19                   1\n",
       "삼전로 80 인근                    1\n",
       "충남 당진시 대호지면 두산리 59-13        1\n",
       "화원읍 동산아파트 인근                 1\n",
       "제일복지관 놀이터                    1\n",
       "구로동 구일지구대                    1\n",
       "문평면 영산로 4265                 1\n",
       "개금동 삼보빌라 부근                  1\n",
       "광주시 송정동 밀목 하고 카페 앞           1\n",
       "성산 용봉자동차 학원부근                1\n",
       "봉서산                          1\n",
       "구로구 구로5동 인근                  1\n",
       "Name: happenPlace, Length: 100840, dtype: int64"
      ]
     },
     "execution_count": 5,
     "metadata": {},
     "output_type": "execute_result"
    }
   ],
   "source": [
    "animal_all['happenPlace'].value_counts()"
   ]
  },
  {
   "cell_type": "code",
   "execution_count": null,
   "metadata": {},
   "outputs": [],
   "source": []
  }
 ],
 "metadata": {
  "kernelspec": {
   "display_name": "Python 3",
   "language": "python",
   "name": "python3"
  },
  "language_info": {
   "codemirror_mode": {
    "name": "ipython",
    "version": 3
   },
   "file_extension": ".py",
   "mimetype": "text/x-python",
   "name": "python",
   "nbconvert_exporter": "python",
   "pygments_lexer": "ipython3",
   "version": "3.6.5"
  }
 },
 "nbformat": 4,
 "nbformat_minor": 2
}
