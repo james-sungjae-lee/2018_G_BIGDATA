{
 "cells": [
  {
   "cell_type": "code",
   "execution_count": 2,
   "metadata": {},
   "outputs": [],
   "source": [
    "import pandas as pd"
   ]
  },
  {
   "cell_type": "code",
   "execution_count": 3,
   "metadata": {},
   "outputs": [],
   "source": [
    "pre2 = pd.read_csv('pre1.txt')"
   ]
  },
  {
   "cell_type": "code",
   "execution_count": 4,
   "metadata": {},
   "outputs": [],
   "source": [
    "pre2 = pre2.drop(['Unnamed: 0'], axis = 1)"
   ]
  },
  {
   "cell_type": "code",
   "execution_count": 5,
   "metadata": {},
   "outputs": [],
   "source": [
    "pre2.rename(columns = {'happenYear':'hapY', 'happenMonth':'hapM', 'happenDay':'hapD'}, inplace = True)"
   ]
  },
  {
   "cell_type": "code",
   "execution_count": 12,
   "metadata": {},
   "outputs": [
    {
     "data": {
      "text/plain": [
       "양주시     13780\n",
       "강서구      8670\n",
       "유성구      7471\n",
       "북구       5723\n",
       "안산시      5007\n",
       "계양구      4384\n",
       "해운대구     3925\n",
       "동구       3879\n",
       "평택시      3385\n",
       "창원시      3064\n",
       "용인시      2933\n",
       "전주시      2892\n",
       "서구       2754\n",
       "남양주시     2605\n",
       "화성시      2605\n",
       "수원시      2445\n",
       "성남시      2344\n",
       "고양시      2284\n",
       "울주군      2226\n",
       "천안시      2188\n",
       "포항시      2119\n",
       "청주시      2090\n",
       "여주시      1944\n",
       "무안군      1900\n",
       "원주시      1785\n",
       "밀양시      1771\n",
       "부평구      1703\n",
       "중구       1673\n",
       "순천시      1633\n",
       "아산시      1535\n",
       "        ...  \n",
       "곡성군       114\n",
       "진안군       107\n",
       "괴산군       101\n",
       "의성군       101\n",
       "해남군        98\n",
       "의령군        95\n",
       "화천군        95\n",
       "김제시        93\n",
       "완도군        91\n",
       "인제군        89\n",
       "양양군        85\n",
       "함평군        78\n",
       "금산군        74\n",
       "군위군        71\n",
       "청양군        63\n",
       "울릉군        63\n",
       "임실군        54\n",
       "순창군        54\n",
       "영양군        53\n",
       "무주군        42\n",
       "부천시        38\n",
       "진도군        33\n",
       "수영구         9\n",
       "제주시         8\n",
       "장흥군         8\n",
       "횡성군         2\n",
       "청원군         1\n",
       "시흥시         1\n",
       "김포시         1\n",
       "연수구         1\n",
       "Name: care2, Length: 158, dtype: int64"
      ]
     },
     "execution_count": 12,
     "metadata": {},
     "output_type": "execute_result"
    }
   ],
   "source": [
    "pre2['care2'].value_counts()"
   ]
  },
  {
   "cell_type": "code",
   "execution_count": 14,
   "metadata": {},
   "outputs": [
    {
     "data": {
      "text/plain": [
       "종료(입양)     44833\n",
       "종료(자연사)    38292\n",
       "종료(안락사)    27671\n",
       "종료(반환)     21720\n",
       "보호중        16230\n",
       "종료(기증)      2837\n",
       "종료(방사)      1248\n",
       "종료(미포획)      118\n",
       "Name: processState, dtype: int64"
      ]
     },
     "execution_count": 14,
     "metadata": {},
     "output_type": "execute_result"
    }
   ],
   "source": [
    "pre2.processState.value_counts()"
   ]
  },
  {
   "cell_type": "code",
   "execution_count": null,
   "metadata": {},
   "outputs": [],
   "source": []
  }
 ],
 "metadata": {
  "kernelspec": {
   "display_name": "Python 3",
   "language": "python",
   "name": "python3"
  },
  "language_info": {
   "codemirror_mode": {
    "name": "ipython",
    "version": 3
   },
   "file_extension": ".py",
   "mimetype": "text/x-python",
   "name": "python",
   "nbconvert_exporter": "python",
   "pygments_lexer": "ipython3",
   "version": "3.6.5"
  }
 },
 "nbformat": 4,
 "nbformat_minor": 2
}
