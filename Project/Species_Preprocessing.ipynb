{
 "cells": [
  {
   "cell_type": "code",
   "execution_count": 1,
   "metadata": {},
   "outputs": [],
   "source": [
    "import pandas as pd\n",
    "import numpy as np"
   ]
  },
  {
   "cell_type": "code",
   "execution_count": 2,
   "metadata": {},
   "outputs": [
    {
     "name": "stderr",
     "output_type": "stream",
     "text": [
      "/anaconda3/lib/python3.6/site-packages/IPython/core/interactiveshell.py:2785: DtypeWarning: Columns (17) have mixed types. Specify dtype option on import or set low_memory=False.\n",
      "  interactivity=interactivity, compiler=compiler, result=result)\n"
     ]
    }
   ],
   "source": [
    "age_done = pd.read_csv('age_done.csv')"
   ]
  },
  {
   "cell_type": "code",
   "execution_count": 7,
   "metadata": {},
   "outputs": [
    {
     "name": "stdout",
     "output_type": "stream",
     "text": [
      "<class 'pandas.core.frame.DataFrame'>\n",
      "RangeIndex: 152949 entries, 0 to 152948\n",
      "Data columns (total 18 columns):\n",
      "Unnamed: 0      152949 non-null int64\n",
      "age             152949 non-null int64\n",
      "careAddr        152949 non-null object\n",
      "careNm          152949 non-null object\n",
      "colorCd         152949 non-null object\n",
      "happenDt        152949 non-null int64\n",
      "happenPlace     152949 non-null object\n",
      "kindCd          152949 non-null object\n",
      "neuterYn        152949 non-null object\n",
      "noticeEdt       152949 non-null int64\n",
      "noticeNo        152949 non-null object\n",
      "noticeSdt       152949 non-null int64\n",
      "popfile         152949 non-null object\n",
      "processState    152949 non-null object\n",
      "sexCd           152949 non-null object\n",
      "specialMark     152617 non-null object\n",
      "weight          152949 non-null object\n",
      "Unnamed: 16     352 non-null object\n",
      "dtypes: int64(5), object(13)\n",
      "memory usage: 21.0+ MB\n"
     ]
    }
   ],
   "source": [
    "age_done.info()"
   ]
  },
  {
   "cell_type": "code",
   "execution_count": 14,
   "metadata": {},
   "outputs": [],
   "source": [
    "age_done = age_done.drop(['Unnamed: 0'], axis = 1)"
   ]
  },
  {
   "cell_type": "code",
   "execution_count": 16,
   "metadata": {
    "scrolled": true
   },
   "outputs": [
    {
     "name": "stdout",
     "output_type": "stream",
     "text": [
      "<class 'pandas.core.frame.DataFrame'>\n",
      "RangeIndex: 152949 entries, 0 to 152948\n",
      "Data columns (total 17 columns):\n",
      "age             152949 non-null int64\n",
      "careAddr        152949 non-null object\n",
      "careNm          152949 non-null object\n",
      "colorCd         152949 non-null object\n",
      "happenDt        152949 non-null int64\n",
      "happenPlace     152949 non-null object\n",
      "kindCd          152949 non-null object\n",
      "neuterYn        152949 non-null object\n",
      "noticeEdt       152949 non-null int64\n",
      "noticeNo        152949 non-null object\n",
      "noticeSdt       152949 non-null int64\n",
      "popfile         152949 non-null object\n",
      "processState    152949 non-null object\n",
      "sexCd           152949 non-null object\n",
      "specialMark     152617 non-null object\n",
      "weight          152949 non-null object\n",
      "Unnamed: 16     352 non-null object\n",
      "dtypes: int64(4), object(13)\n",
      "memory usage: 19.8+ MB\n"
     ]
    }
   ],
   "source": [
    "age_done.info()"
   ]
  },
  {
   "cell_type": "code",
   "execution_count": 25,
   "metadata": {},
   "outputs": [
    {
     "data": {
      "text/plain": [
       "2017    46281\n",
       "2018    24919\n",
       "2016    20303\n",
       "2015    19674\n",
       "2014    13700\n",
       "2013     8153\n",
       "2012     6678\n",
       "2011     3128\n",
       "2010     2790\n",
       "2007     2213\n",
       "2009     1941\n",
       "2008     1569\n",
       "2005      480\n",
       "2006      367\n",
       "2004      250\n",
       "2003      221\n",
       "2002      213\n",
       "2001       40\n",
       "2000       12\n",
       "1999        5\n",
       "1998        3\n",
       "1993        3\n",
       "1997        2\n",
       "1988        2\n",
       "1995        1\n",
       "1992        1\n",
       "Name: age, dtype: int64"
      ]
     },
     "execution_count": 25,
     "metadata": {},
     "output_type": "execute_result"
    }
   ],
   "source": [
    "age_done['age'].value_counts()"
   ]
  },
  {
   "cell_type": "code",
   "execution_count": 27,
   "metadata": {},
   "outputs": [
    {
     "data": {
      "text/html": [
       "<div>\n",
       "<style scoped>\n",
       "    .dataframe tbody tr th:only-of-type {\n",
       "        vertical-align: middle;\n",
       "    }\n",
       "\n",
       "    .dataframe tbody tr th {\n",
       "        vertical-align: top;\n",
       "    }\n",
       "\n",
       "    .dataframe thead th {\n",
       "        text-align: right;\n",
       "    }\n",
       "</style>\n",
       "<table border=\"1\" class=\"dataframe\">\n",
       "  <thead>\n",
       "    <tr style=\"text-align: right;\">\n",
       "      <th></th>\n",
       "      <th>age</th>\n",
       "      <th>careAddr</th>\n",
       "      <th>careNm</th>\n",
       "      <th>colorCd</th>\n",
       "      <th>happenDt</th>\n",
       "      <th>happenPlace</th>\n",
       "      <th>kindCd</th>\n",
       "      <th>neuterYn</th>\n",
       "      <th>noticeEdt</th>\n",
       "      <th>noticeNo</th>\n",
       "      <th>noticeSdt</th>\n",
       "      <th>popfile</th>\n",
       "      <th>processState</th>\n",
       "      <th>sexCd</th>\n",
       "      <th>specialMark</th>\n",
       "      <th>weight</th>\n",
       "      <th>Unnamed: 16</th>\n",
       "    </tr>\n",
       "  </thead>\n",
       "  <tbody>\n",
       "    <tr>\n",
       "      <th>143738</th>\n",
       "      <td>1988</td>\n",
       "      <td>전라북도 고창군 고창읍 보릿골로 138 (고창읍/ 한사랑동물병원)</td>\n",
       "      <td>한사랑동물병원</td>\n",
       "      <td>흰색</td>\n",
       "      <td>20170303</td>\n",
       "      <td>흥덕면 솔라파크</td>\n",
       "      <td>[개] 진도견</td>\n",
       "      <td>U</td>\n",
       "      <td>20170313</td>\n",
       "      <td>전북-고창-2017-00011</td>\n",
       "      <td>20170303</td>\n",
       "      <td>http://www.animal.go.kr/files/shelter/2017/01/...</td>\n",
       "      <td>종료(입양)</td>\n",
       "      <td>F</td>\n",
       "      <td>검은색줄 쇠사슬 목걸이/ 교통사고 뒷발절음/ 사람을 타는데 경계함/ 신고한곳에서 보...</td>\n",
       "      <td>12(Kg)</td>\n",
       "      <td>NaN</td>\n",
       "    </tr>\n",
       "    <tr>\n",
       "      <th>144015</th>\n",
       "      <td>1988</td>\n",
       "      <td>전라북도 고창군 고창읍 보릿골로 138 (고창읍/ 한사랑동물병원)</td>\n",
       "      <td>한사랑동물병원</td>\n",
       "      <td>흰색</td>\n",
       "      <td>20170228</td>\n",
       "      <td>고창월곡주공 103동 6층 층계단</td>\n",
       "      <td>[개] 포메라니안</td>\n",
       "      <td>U</td>\n",
       "      <td>20170310</td>\n",
       "      <td>전북-고창-2017-00010</td>\n",
       "      <td>20170228</td>\n",
       "      <td>http://www.animal.go.kr/files/shelter/2017/01/...</td>\n",
       "      <td>종료(안락사)</td>\n",
       "      <td>Q</td>\n",
       "      <td>후지 기립불능/ 매우 예민한 상태여서 물려고 함/ 나이 성별 확인 X</td>\n",
       "      <td>3.2(Kg)</td>\n",
       "      <td>NaN</td>\n",
       "    </tr>\n",
       "  </tbody>\n",
       "</table>\n",
       "</div>"
      ],
      "text/plain": [
       "         age                               careAddr   careNm colorCd  \\\n",
       "143738  1988  전라북도 고창군 고창읍 보릿골로 138 (고창읍/ 한사랑동물병원)   한사랑동물병원      흰색   \n",
       "144015  1988  전라북도 고창군 고창읍 보릿골로 138 (고창읍/ 한사랑동물병원)   한사랑동물병원      흰색   \n",
       "\n",
       "        happenDt         happenPlace     kindCd neuterYn  noticeEdt  \\\n",
       "143738  20170303            흥덕면 솔라파크    [개] 진도견        U   20170313   \n",
       "144015  20170228  고창월곡주공 103동 6층 층계단  [개] 포메라니안        U   20170310   \n",
       "\n",
       "                noticeNo  noticeSdt  \\\n",
       "143738  전북-고창-2017-00011   20170303   \n",
       "144015  전북-고창-2017-00010   20170228   \n",
       "\n",
       "                                                  popfile processState sexCd  \\\n",
       "143738  http://www.animal.go.kr/files/shelter/2017/01/...       종료(입양)     F   \n",
       "144015  http://www.animal.go.kr/files/shelter/2017/01/...      종료(안락사)     Q   \n",
       "\n",
       "                                              specialMark   weight Unnamed: 16  \n",
       "143738  검은색줄 쇠사슬 목걸이/ 교통사고 뒷발절음/ 사람을 타는데 경계함/ 신고한곳에서 보...   12(Kg)         NaN  \n",
       "144015             후지 기립불능/ 매우 예민한 상태여서 물려고 함/ 나이 성별 확인 X  3.2(Kg)         NaN  "
      ]
     },
     "execution_count": 27,
     "metadata": {},
     "output_type": "execute_result"
    }
   ],
   "source": [
    "age_done[age_done['age'] == 1988]"
   ]
  },
  {
   "cell_type": "code",
   "execution_count": null,
   "metadata": {},
   "outputs": [],
   "source": []
  },
  {
   "cell_type": "code",
   "execution_count": null,
   "metadata": {},
   "outputs": [],
   "source": []
  },
  {
   "cell_type": "code",
   "execution_count": null,
   "metadata": {},
   "outputs": [],
   "source": []
  },
  {
   "cell_type": "code",
   "execution_count": 18,
   "metadata": {
    "scrolled": false
   },
   "outputs": [
    {
     "data": {
      "text/plain": [
       "[개] 믹스견                   56503\n",
       "[고양이] 고양이                 25132\n",
       "[고양이] 한국 고양이              12579\n",
       "[개] 푸들                    10683\n",
       "[개] 말티즈                   10501\n",
       "[개] 진도견                    5371\n",
       "[개] 시츄                     3876\n",
       "[개] 포메라니안                  2719\n",
       "[개] 요크셔 테리어                2498\n",
       "[개] 스피츠                    2089\n",
       "[개] 골든 리트리버                1334\n",
       "[개] 치와와                    1313\n",
       "[개] 코카 스파니엘                1180\n",
       "[개] 닥스훈트                   1163\n",
       "[개] 라브라도 리트리버               868\n",
       "[개] 미니어쳐 핀셔                 859\n",
       "[개] 슈나우져                    739\n",
       "[개] 웰시 코기 펨브로크              663\n",
       "[개] 시베리안 허스키                656\n",
       "[개] 비글                      536\n",
       "[기타축종] 토끼                   488\n",
       "[개] 보스턴 테리어                 473\n",
       "[고양이] 혼합                    407\n",
       "[고양이] 코숏                    392\n",
       "[개] 프렌치 불독                  369\n",
       "[개] 페키니즈                    351\n",
       "[고양이]                       331\n",
       "[개] 셰퍼드                     324\n",
       "[고양이] 페르시안-페프시안 친칠라         306\n",
       "[개] 사모예드                    298\n",
       "                          ...  \n",
       "[개] 말티스 믹스                    1\n",
       "[개] (라브라도 리트리버)               1\n",
       "[개] 말티즈믹스                     1\n",
       "[기타축종] 프레이도그                  1\n",
       "[개] 베드링턴 테리어                  1\n",
       "[기타축종] 아프리카 콩고 그레이 앵무새        1\n",
       "[개] 시츄 혼합                     1\n",
       "[기타축종] 2                      1\n",
       "[기타축종] 친칠라                    1\n",
       "[개] 플랫 코티드 리트리버               1\n",
       "[개] 브루태니                      1\n",
       "[고양이] 러시안블루 믹스                1\n",
       "[고양이] 페르시안 친칠라                1\n",
       "[개] 리트리버믹스                    1\n",
       "[개] 믹스(사냥개)                   1\n",
       "[개] 버니즈마운틴독                   1\n",
       "[개] 셰퍼믹스                      1\n",
       "[개] 올드잉글리쉬 쉽독 믹스              1\n",
       "[개] 자이언트 슈나우져                 1\n",
       "[기타축종] 비어디 드래곤                1\n",
       "[개] 마르노이즈혼합                   1\n",
       "[개] 셔틀랜드쉽독                    1\n",
       "[개] 보더콜리 믹스추정                 1\n",
       "[개] 하운드믹스                     1\n",
       "[고양이] 믹스고양이                   1\n",
       "[개] 레몬보더                      1\n",
       "[개] 진돗개                       1\n",
       "[개] 재패니즈 친                    1\n",
       "[개] 치와와 혼합                    1\n",
       "[기타축종] 금화조                    1\n",
       "Name: kindCd, Length: 717, dtype: int64"
      ]
     },
     "execution_count": 18,
     "metadata": {},
     "output_type": "execute_result"
    }
   ],
   "source": [
    "age_done['kindCd'].value_counts()"
   ]
  },
  {
   "cell_type": "code",
   "execution_count": null,
   "metadata": {
    "scrolled": true
   },
   "outputs": [
    {
     "name": "stderr",
     "output_type": "stream",
     "text": [
      "/anaconda3/lib/python3.6/site-packages/pandas/core/indexing.py:189: SettingWithCopyWarning: \n",
      "A value is trying to be set on a copy of a slice from a DataFrame\n",
      "\n",
      "See the caveats in the documentation: http://pandas.pydata.org/pandas-docs/stable/indexing.html#indexing-view-versus-copy\n",
      "  self._setitem_with_indexer(indexer, value)\n"
     ]
    }
   ],
   "source": [
    "for index, contents in enumerate(age_done['kindCd']):\n",
    "    if contents[1] == '개':\n",
    "        age_done['dog'].iloc[index] = 1\n",
    "    elif contents[1] == '고':\n",
    "        age_done['cat'].iloc[index] = 1\n",
    "    else:\n",
    "        age_done['others'].iloc[index] = 1"
   ]
  },
  {
   "cell_type": "code",
   "execution_count": 43,
   "metadata": {},
   "outputs": [],
   "source": [
    "age_done.rename(columns={'species': 'dog', 'Dog': 'cat', 'Cat':'others'}, inplace=True)"
   ]
  },
  {
   "cell_type": "code",
   "execution_count": 53,
   "metadata": {},
   "outputs": [],
   "source": [
    "age_done['dog'] = 0\n",
    "age_done['cat'] = 0\n",
    "age_done['others'] = 0"
   ]
  },
  {
   "cell_type": "code",
   "execution_count": null,
   "metadata": {},
   "outputs": [],
   "source": [
    "age_done.head()"
   ]
  },
  {
   "cell_type": "code",
   "execution_count": null,
   "metadata": {},
   "outputs": [],
   "source": []
  },
  {
   "cell_type": "code",
   "execution_count": null,
   "metadata": {},
   "outputs": [],
   "source": []
  },
  {
   "cell_type": "code",
   "execution_count": null,
   "metadata": {},
   "outputs": [],
   "source": []
  }
 ],
 "metadata": {
  "kernelspec": {
   "display_name": "Python 3",
   "language": "python",
   "name": "python3"
  },
  "language_info": {
   "codemirror_mode": {
    "name": "ipython",
    "version": 3
   },
   "file_extension": ".py",
   "mimetype": "text/x-python",
   "name": "python",
   "nbconvert_exporter": "python",
   "pygments_lexer": "ipython3",
   "version": "3.6.5"
  }
 },
 "nbformat": 4,
 "nbformat_minor": 2
}
