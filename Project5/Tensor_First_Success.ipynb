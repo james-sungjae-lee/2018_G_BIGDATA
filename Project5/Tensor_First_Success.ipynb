{
 "cells": [
  {
   "cell_type": "code",
   "execution_count": 1,
   "metadata": {
    "scrolled": true
   },
   "outputs": [
    {
     "name": "stderr",
     "output_type": "stream",
     "text": [
      "/anaconda3/lib/python3.6/site-packages/h5py/__init__.py:36: FutureWarning: Conversion of the second argument of issubdtype from `float` to `np.floating` is deprecated. In future, it will be treated as `np.float64 == np.dtype(float).type`.\n",
      "  from ._conv import register_converters as _register_converters\n"
     ]
    }
   ],
   "source": [
    "import tensorflow as tf\n",
    "import pandas as pd\n",
    "import numpy as np\n",
    "tf.set_random_seed(777)  # for reproducibility"
   ]
  },
  {
   "cell_type": "code",
   "execution_count": 2,
   "metadata": {},
   "outputs": [],
   "source": [
    "xy = pd.read_csv('animal_for_tf.csv')\n",
    "xy = xy.drop(['Unnamed: 0'], axis =1)"
   ]
  },
  {
   "cell_type": "code",
   "execution_count": 3,
   "metadata": {},
   "outputs": [
    {
     "data": {
      "text/plain": [
       "array([[0.9, 7. , 1. , ..., 0. , 0. , 0. ],\n",
       "       [0.3, 6. , 1. , ..., 0. , 0. , 1. ],\n",
       "       [3. , 6. , 6. , ..., 0. , 0. , 0. ],\n",
       "       ...,\n",
       "       [1.8, 4. , 0. , ..., 0. , 0. , 0. ],\n",
       "       [5.3, 4. , 0. , ..., 0. , 0. , 0. ],\n",
       "       [5.6, 4. , 2. , ..., 0. , 0. , 1. ]])"
      ]
     },
     "execution_count": 3,
     "metadata": {},
     "output_type": "execute_result"
    }
   ],
   "source": [
    "x_data = xy.drop(['newState'], axis = 1)\n",
    "x_data = x_data.values\n",
    "x_data"
   ]
  },
  {
   "cell_type": "code",
   "execution_count": 4,
   "metadata": {
    "scrolled": true
   },
   "outputs": [
    {
     "data": {
      "text/plain": [
       "array([0, 1, 3, ..., 1, 0, 1])"
      ]
     },
     "execution_count": 4,
     "metadata": {},
     "output_type": "execute_result"
    }
   ],
   "source": [
    "y_data = xy['newState'].values\n",
    "y_data"
   ]
  },
  {
   "cell_type": "code",
   "execution_count": 5,
   "metadata": {},
   "outputs": [],
   "source": [
    "y_data = y_data.reshape(120481,1)"
   ]
  },
  {
   "cell_type": "code",
   "execution_count": 6,
   "metadata": {},
   "outputs": [
    {
     "name": "stdout",
     "output_type": "stream",
     "text": [
      "(120481, 11) (120481, 1)\n",
      "Class label [0 1 2 3]\n"
     ]
    }
   ],
   "source": [
    "print(x_data.shape, y_data.shape)\n",
    "\n",
    "print('Class label', np.unique(y_data))\n",
    "\n",
    "nb_classes = 4"
   ]
  },
  {
   "cell_type": "code",
   "execution_count": 7,
   "metadata": {},
   "outputs": [
    {
     "name": "stdout",
     "output_type": "stream",
     "text": [
      "reshape (?, 1)\n"
     ]
    }
   ],
   "source": [
    "X = tf.placeholder(tf.float32, [None, 11])\n",
    "Y = tf.placeholder(tf.int32, [None, 1])\n",
    "print(\"reshape\", Y.shape)  # 0 ~ 6"
   ]
  },
  {
   "cell_type": "code",
   "execution_count": 8,
   "metadata": {},
   "outputs": [
    {
     "name": "stdout",
     "output_type": "stream",
     "text": [
      "reshape (?, 1, 4)\n"
     ]
    }
   ],
   "source": [
    "Y_one_hot = tf.one_hot(Y, nb_classes)  # one hot\n",
    "print(\"reshape\", Y_one_hot.shape)"
   ]
  },
  {
   "cell_type": "code",
   "execution_count": 9,
   "metadata": {},
   "outputs": [
    {
     "name": "stdout",
     "output_type": "stream",
     "text": [
      "one_hot Tensor(\"one_hot:0\", shape=(?, 1, 4), dtype=float32)\n",
      "y_data.shape Tensor(\"one_hot:0\", shape=(?, 1, 4), dtype=float32)\n",
      "reshape (?, 4)\n"
     ]
    }
   ],
   "source": [
    "print(\"one_hot\", Y_one_hot)\n",
    "print(\"y_data.shape\", Y_one_hot)\n",
    "Y_one_hot = tf.reshape(Y_one_hot, [-1, nb_classes])\n",
    "print(\"reshape\", Y_one_hot.shape)"
   ]
  },
  {
   "cell_type": "code",
   "execution_count": null,
   "metadata": {},
   "outputs": [],
   "source": []
  },
  {
   "cell_type": "code",
   "execution_count": 10,
   "metadata": {},
   "outputs": [],
   "source": [
    "W1 = tf.get_variable(\"W1\", shape=[11, 100],\n",
    "                     initializer=tf.contrib.layers.xavier_initializer())\n",
    "b1 = tf.Variable(tf.random_normal([100]))\n",
    "L1 = tf.nn.relu(tf.matmul(X, W1) + b1)"
   ]
  },
  {
   "cell_type": "code",
   "execution_count": 11,
   "metadata": {},
   "outputs": [],
   "source": [
    "W2 = tf.get_variable(\"W2\", shape=[100, 100],\n",
    "                     initializer=tf.contrib.layers.xavier_initializer())\n",
    "b2 = tf.Variable(tf.random_normal([100]))\n",
    "L2 = tf.nn.relu(tf.matmul(L1, W2) + b2)"
   ]
  },
  {
   "cell_type": "code",
   "execution_count": 12,
   "metadata": {},
   "outputs": [],
   "source": [
    "W3 = tf.get_variable(\"W3\", shape=[100, 4],\n",
    "                     initializer=tf.contrib.layers.xavier_initializer())\n",
    "b3 = tf.Variable(tf.random_normal([4]))\n",
    "hypothesis = tf.matmul(L2, W3) + b3"
   ]
  },
  {
   "cell_type": "code",
   "execution_count": null,
   "metadata": {},
   "outputs": [],
   "source": []
  },
  {
   "cell_type": "code",
   "execution_count": 13,
   "metadata": {},
   "outputs": [
    {
     "name": "stdout",
     "output_type": "stream",
     "text": [
      "WARNING:tensorflow:From <ipython-input-13-bd0d65caf50a>:2: softmax_cross_entropy_with_logits (from tensorflow.python.ops.nn_ops) is deprecated and will be removed in a future version.\n",
      "Instructions for updating:\n",
      "\n",
      "Future major versions of TensorFlow will allow gradients to flow\n",
      "into the labels input on backprop by default.\n",
      "\n",
      "See @{tf.nn.softmax_cross_entropy_with_logits_v2}.\n",
      "\n"
     ]
    }
   ],
   "source": [
    "cost = tf.reduce_mean(tf.nn.softmax_cross_entropy_with_logits(\n",
    "    logits=hypothesis, labels=Y))\n",
    "optimizer = tf.train.AdamOptimizer(learning_rate=0.0003).minimize(cost)\n",
    "\n",
    "prediction = tf.argmax(hypothesis, 1)\n",
    "correct_prediction = tf.equal(prediction, tf.argmax(Y_one_hot, 1))\n",
    "accuracy = tf.reduce_mean(tf.cast(correct_prediction, tf.float32))"
   ]
  },
  {
   "cell_type": "code",
   "execution_count": 15,
   "metadata": {
    "scrolled": true
   },
   "outputs": [
    {
     "name": "stdout",
     "output_type": "stream",
     "text": [
      "Step:     0\tLoss: 16.008\tAcc: 15.98%\n",
      "Step:    10\tLoss: 14.711\tAcc: 16.02%\n",
      "Step:    20\tLoss: 13.819\tAcc: 16.92%\n",
      "Step:    30\tLoss: 13.212\tAcc: 18.27%\n",
      "Step:    40\tLoss: 12.730\tAcc: 20.07%\n",
      "Step:    50\tLoss: 12.340\tAcc: 21.23%\n",
      "Step:    60\tLoss: 12.067\tAcc: 22.73%\n",
      "Step:    70\tLoss: 11.967\tAcc: 26.71%\n",
      "Step:    80\tLoss: 12.030\tAcc: 30.33%\n",
      "Step:    90\tLoss: 12.214\tAcc: 33.20%\n",
      "Step:   100\tLoss: 12.473\tAcc: 34.28%\n",
      "Step:   110\tLoss: 12.846\tAcc: 34.31%\n",
      "Step:   120\tLoss: 13.435\tAcc: 34.34%\n",
      "Step:   130\tLoss: 14.188\tAcc: 34.47%\n",
      "Step:   140\tLoss: 15.125\tAcc: 34.86%\n",
      "Step:   150\tLoss: 16.353\tAcc: 35.00%\n",
      "Step:   160\tLoss: 17.931\tAcc: 35.09%\n",
      "Step:   170\tLoss: 19.863\tAcc: 35.13%\n",
      "Step:   180\tLoss: 22.159\tAcc: 35.13%\n",
      "Step:   190\tLoss: 24.816\tAcc: 35.11%\n",
      "Step:   200\tLoss: 27.807\tAcc: 35.03%\n",
      "Step:   210\tLoss: 31.105\tAcc: 34.98%\n",
      "Step:   220\tLoss: 34.695\tAcc: 34.95%\n",
      "Step:   230\tLoss: 38.565\tAcc: 34.90%\n",
      "Step:   240\tLoss: 42.703\tAcc: 34.86%\n",
      "Step:   250\tLoss: 47.100\tAcc: 34.82%\n",
      "Step:   260\tLoss: 51.753\tAcc: 34.82%\n",
      "Step:   270\tLoss: 56.657\tAcc: 34.82%\n",
      "Step:   280\tLoss: 61.811\tAcc: 34.80%\n",
      "Step:   290\tLoss: 67.214\tAcc: 34.80%\n",
      "Step:   300\tLoss: 72.864\tAcc: 34.79%\n",
      "Step:   310\tLoss: 78.762\tAcc: 34.79%\n",
      "Step:   320\tLoss: 84.906\tAcc: 34.78%\n",
      "Step:   330\tLoss: 91.294\tAcc: 34.79%\n",
      "Step:   340\tLoss: 97.921\tAcc: 34.79%\n",
      "Step:   350\tLoss: 104.783\tAcc: 34.79%\n",
      "Step:   360\tLoss: 111.879\tAcc: 34.79%\n",
      "Step:   370\tLoss: 119.206\tAcc: 34.80%\n",
      "Step:   380\tLoss: 126.756\tAcc: 34.80%\n",
      "Step:   390\tLoss: 134.529\tAcc: 34.80%\n",
      "Step:   400\tLoss: 142.522\tAcc: 34.81%\n",
      "Step:   410\tLoss: 150.736\tAcc: 34.82%\n",
      "Step:   420\tLoss: 159.169\tAcc: 34.82%\n",
      "Step:   430\tLoss: 167.815\tAcc: 34.82%\n",
      "Step:   440\tLoss: 176.676\tAcc: 34.83%\n",
      "Step:   450\tLoss: 185.744\tAcc: 34.83%\n",
      "Step:   460\tLoss: 195.019\tAcc: 34.83%\n",
      "Step:   470\tLoss: 204.500\tAcc: 34.83%\n",
      "Step:   480\tLoss: 214.184\tAcc: 34.83%\n",
      "Step:   490\tLoss: 224.070\tAcc: 34.82%\n",
      "Step:   500\tLoss: 234.156\tAcc: 34.83%\n"
     ]
    }
   ],
   "source": [
    "with tf.Session() as sess:\n",
    "    sess.run(tf.global_variables_initializer())\n",
    "\n",
    "    for step in range(501):\n",
    "        sess.run(optimizer, feed_dict={X: x_data, Y: y_data})\n",
    "        if step % 10 == 0:\n",
    "            loss, acc = sess.run([cost, accuracy], feed_dict={\n",
    "                                 X: x_data, Y: y_data})\n",
    "            print(\"Step: {:5}\\tLoss: {:.3f}\\tAcc: {:.2%}\".format(\n",
    "                step, loss, acc))\n",
    "\n",
    "    # Let's see if we can predict\n",
    "    pred = sess.run(prediction, feed_dict={X: x_data})\n",
    "    # y_data: (N,1) = flatten => (N, ) matches pred.shape"
   ]
  },
  {
   "cell_type": "code",
   "execution_count": null,
   "metadata": {},
   "outputs": [],
   "source": []
  }
 ],
 "metadata": {
  "kernelspec": {
   "display_name": "Python 3",
   "language": "python",
   "name": "python3"
  },
  "language_info": {
   "codemirror_mode": {
    "name": "ipython",
    "version": 3
   },
   "file_extension": ".py",
   "mimetype": "text/x-python",
   "name": "python",
   "nbconvert_exporter": "python",
   "pygments_lexer": "ipython3",
   "version": "3.6.5"
  }
 },
 "nbformat": 4,
 "nbformat_minor": 2
}
