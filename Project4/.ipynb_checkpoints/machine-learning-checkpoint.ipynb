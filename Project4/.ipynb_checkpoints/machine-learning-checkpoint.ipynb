{
 "cells": [
  {
   "cell_type": "markdown",
   "metadata": {},
   "source": [
    "## Data Check"
   ]
  },
  {
   "cell_type": "code",
   "execution_count": 2,
   "metadata": {},
   "outputs": [],
   "source": [
    "import pandas as pd\n",
    "import numpy as np\n",
    "import matplotlib.pyplot as plt\n",
    "import seaborn as sns\n",
    "%matplotlib inline"
   ]
  },
  {
   "cell_type": "code",
   "execution_count": 3,
   "metadata": {},
   "outputs": [
    {
     "data": {
      "text/html": [
       "<div>\n",
       "<style scoped>\n",
       "    .dataframe tbody tr th:only-of-type {\n",
       "        vertical-align: middle;\n",
       "    }\n",
       "\n",
       "    .dataframe tbody tr th {\n",
       "        vertical-align: top;\n",
       "    }\n",
       "\n",
       "    .dataframe thead th {\n",
       "        text-align: right;\n",
       "    }\n",
       "</style>\n",
       "<table border=\"1\" class=\"dataframe\">\n",
       "  <thead>\n",
       "    <tr style=\"text-align: right;\">\n",
       "      <th></th>\n",
       "      <th>weight</th>\n",
       "      <th>hapM</th>\n",
       "      <th>age</th>\n",
       "      <th>neuterN</th>\n",
       "      <th>neuterU</th>\n",
       "      <th>neuterY</th>\n",
       "      <th>dog</th>\n",
       "      <th>cat</th>\n",
       "      <th>kindETC</th>\n",
       "      <th>protect</th>\n",
       "      <th>return</th>\n",
       "      <th>death_E</th>\n",
       "      <th>adopt</th>\n",
       "      <th>death_N</th>\n",
       "      <th>items</th>\n",
       "      <th>bad</th>\n",
       "    </tr>\n",
       "  </thead>\n",
       "  <tbody>\n",
       "    <tr>\n",
       "      <th>0</th>\n",
       "      <td>0.9</td>\n",
       "      <td>7.0</td>\n",
       "      <td>1.0</td>\n",
       "      <td>1.0</td>\n",
       "      <td>0.0</td>\n",
       "      <td>0.0</td>\n",
       "      <td>0.0</td>\n",
       "      <td>1.0</td>\n",
       "      <td>0.0</td>\n",
       "      <td>0.0</td>\n",
       "      <td>0.0</td>\n",
       "      <td>0.0</td>\n",
       "      <td>1.0</td>\n",
       "      <td>0.0</td>\n",
       "      <td>0.0</td>\n",
       "      <td>0.0</td>\n",
       "    </tr>\n",
       "    <tr>\n",
       "      <th>1</th>\n",
       "      <td>4.2</td>\n",
       "      <td>7.0</td>\n",
       "      <td>3.0</td>\n",
       "      <td>1.0</td>\n",
       "      <td>0.0</td>\n",
       "      <td>0.0</td>\n",
       "      <td>1.0</td>\n",
       "      <td>0.0</td>\n",
       "      <td>0.0</td>\n",
       "      <td>1.0</td>\n",
       "      <td>0.0</td>\n",
       "      <td>0.0</td>\n",
       "      <td>0.0</td>\n",
       "      <td>0.0</td>\n",
       "      <td>0.0</td>\n",
       "      <td>0.0</td>\n",
       "    </tr>\n",
       "    <tr>\n",
       "      <th>2</th>\n",
       "      <td>0.3</td>\n",
       "      <td>6.0</td>\n",
       "      <td>1.0</td>\n",
       "      <td>0.0</td>\n",
       "      <td>1.0</td>\n",
       "      <td>0.0</td>\n",
       "      <td>0.0</td>\n",
       "      <td>1.0</td>\n",
       "      <td>0.0</td>\n",
       "      <td>0.0</td>\n",
       "      <td>0.0</td>\n",
       "      <td>0.0</td>\n",
       "      <td>0.0</td>\n",
       "      <td>1.0</td>\n",
       "      <td>0.0</td>\n",
       "      <td>1.0</td>\n",
       "    </tr>\n",
       "    <tr>\n",
       "      <th>3</th>\n",
       "      <td>3.0</td>\n",
       "      <td>6.0</td>\n",
       "      <td>6.0</td>\n",
       "      <td>1.0</td>\n",
       "      <td>0.0</td>\n",
       "      <td>0.0</td>\n",
       "      <td>1.0</td>\n",
       "      <td>0.0</td>\n",
       "      <td>0.0</td>\n",
       "      <td>0.0</td>\n",
       "      <td>1.0</td>\n",
       "      <td>0.0</td>\n",
       "      <td>0.0</td>\n",
       "      <td>0.0</td>\n",
       "      <td>0.0</td>\n",
       "      <td>0.0</td>\n",
       "    </tr>\n",
       "    <tr>\n",
       "      <th>4</th>\n",
       "      <td>5.0</td>\n",
       "      <td>3.0</td>\n",
       "      <td>6.0</td>\n",
       "      <td>1.0</td>\n",
       "      <td>0.0</td>\n",
       "      <td>0.0</td>\n",
       "      <td>1.0</td>\n",
       "      <td>0.0</td>\n",
       "      <td>0.0</td>\n",
       "      <td>0.0</td>\n",
       "      <td>0.0</td>\n",
       "      <td>0.0</td>\n",
       "      <td>1.0</td>\n",
       "      <td>0.0</td>\n",
       "      <td>0.0</td>\n",
       "      <td>0.0</td>\n",
       "    </tr>\n",
       "  </tbody>\n",
       "</table>\n",
       "</div>"
      ],
      "text/plain": [
       "   weight  hapM  age  neuterN  neuterU  neuterY  dog  cat  kindETC  protect  \\\n",
       "0     0.9   7.0  1.0      1.0      0.0      0.0  0.0  1.0      0.0      0.0   \n",
       "1     4.2   7.0  3.0      1.0      0.0      0.0  1.0  0.0      0.0      1.0   \n",
       "2     0.3   6.0  1.0      0.0      1.0      0.0  0.0  1.0      0.0      0.0   \n",
       "3     3.0   6.0  6.0      1.0      0.0      0.0  1.0  0.0      0.0      0.0   \n",
       "4     5.0   3.0  6.0      1.0      0.0      0.0  1.0  0.0      0.0      0.0   \n",
       "\n",
       "   return  death_E  adopt  death_N  items  bad  \n",
       "0     0.0      0.0    1.0      0.0    0.0  0.0  \n",
       "1     0.0      0.0    0.0      0.0    0.0  0.0  \n",
       "2     0.0      0.0    0.0      1.0    0.0  1.0  \n",
       "3     1.0      0.0    0.0      0.0    0.0  0.0  \n",
       "4     0.0      0.0    1.0      0.0    0.0  0.0  "
      ]
     },
     "execution_count": 3,
     "metadata": {},
     "output_type": "execute_result"
    }
   ],
   "source": [
    "animal_data = pd.read_csv('data_onehot_new.csv')\n",
    "animal_data = animal_data.drop(['Unnamed: 0'], axis = 1)\n",
    "animal_data.head()"
   ]
  },
  {
   "cell_type": "code",
   "execution_count": 4,
   "metadata": {},
   "outputs": [
    {
     "name": "stdout",
     "output_type": "stream",
     "text": [
      "<class 'pandas.core.frame.DataFrame'>\n",
      "RangeIndex: 132921 entries, 0 to 132920\n",
      "Data columns (total 16 columns):\n",
      "weight     132921 non-null float64\n",
      "hapM       132921 non-null float64\n",
      "age        132921 non-null float64\n",
      "neuterN    132921 non-null float64\n",
      "neuterU    132921 non-null float64\n",
      "neuterY    132921 non-null float64\n",
      "dog        132921 non-null float64\n",
      "cat        132921 non-null float64\n",
      "kindETC    132921 non-null float64\n",
      "protect    132921 non-null float64\n",
      "return     132921 non-null float64\n",
      "death_E    132921 non-null float64\n",
      "adopt      132921 non-null float64\n",
      "death_N    132921 non-null float64\n",
      "items      132921 non-null float64\n",
      "bad        132921 non-null float64\n",
      "dtypes: float64(16)\n",
      "memory usage: 16.2 MB\n"
     ]
    }
   ],
   "source": [
    "animal_data.info()"
   ]
  },
  {
   "cell_type": "code",
   "execution_count": 5,
   "metadata": {
    "scrolled": true
   },
   "outputs": [
    {
     "data": {
      "text/html": [
       "<div>\n",
       "<style scoped>\n",
       "    .dataframe tbody tr th:only-of-type {\n",
       "        vertical-align: middle;\n",
       "    }\n",
       "\n",
       "    .dataframe tbody tr th {\n",
       "        vertical-align: top;\n",
       "    }\n",
       "\n",
       "    .dataframe thead th {\n",
       "        text-align: right;\n",
       "    }\n",
       "</style>\n",
       "<table border=\"1\" class=\"dataframe\">\n",
       "  <thead>\n",
       "    <tr style=\"text-align: right;\">\n",
       "      <th></th>\n",
       "      <th>weight</th>\n",
       "      <th>hapM</th>\n",
       "      <th>age</th>\n",
       "      <th>neuterN</th>\n",
       "      <th>neuterU</th>\n",
       "      <th>neuterY</th>\n",
       "      <th>dog</th>\n",
       "      <th>cat</th>\n",
       "      <th>kindETC</th>\n",
       "      <th>protect</th>\n",
       "      <th>return</th>\n",
       "      <th>death_E</th>\n",
       "      <th>adopt</th>\n",
       "      <th>death_N</th>\n",
       "      <th>items</th>\n",
       "      <th>bad</th>\n",
       "    </tr>\n",
       "  </thead>\n",
       "  <tbody>\n",
       "    <tr>\n",
       "      <th>count</th>\n",
       "      <td>132921.000000</td>\n",
       "      <td>132921.000000</td>\n",
       "      <td>132921.000000</td>\n",
       "      <td>132921.000000</td>\n",
       "      <td>132921.000000</td>\n",
       "      <td>132921.000000</td>\n",
       "      <td>132921.000000</td>\n",
       "      <td>132921.000000</td>\n",
       "      <td>132921.000000</td>\n",
       "      <td>132921.000000</td>\n",
       "      <td>132921.000000</td>\n",
       "      <td>132921.000000</td>\n",
       "      <td>132921.000000</td>\n",
       "      <td>132921.000000</td>\n",
       "      <td>132921.000000</td>\n",
       "      <td>132921.000000</td>\n",
       "    </tr>\n",
       "    <tr>\n",
       "      <th>mean</th>\n",
       "      <td>5.480041</td>\n",
       "      <td>5.778733</td>\n",
       "      <td>2.782171</td>\n",
       "      <td>0.609934</td>\n",
       "      <td>0.333649</td>\n",
       "      <td>0.056417</td>\n",
       "      <td>0.736550</td>\n",
       "      <td>0.252090</td>\n",
       "      <td>0.011360</td>\n",
       "      <td>0.064286</td>\n",
       "      <td>0.144838</td>\n",
       "      <td>0.193340</td>\n",
       "      <td>0.311087</td>\n",
       "      <td>0.257145</td>\n",
       "      <td>0.150322</td>\n",
       "      <td>0.360161</td>\n",
       "    </tr>\n",
       "    <tr>\n",
       "      <th>std</th>\n",
       "      <td>10.257781</td>\n",
       "      <td>3.151417</td>\n",
       "      <td>2.696216</td>\n",
       "      <td>0.487767</td>\n",
       "      <td>0.471518</td>\n",
       "      <td>0.230726</td>\n",
       "      <td>0.440506</td>\n",
       "      <td>0.434214</td>\n",
       "      <td>0.105977</td>\n",
       "      <td>0.245263</td>\n",
       "      <td>0.351939</td>\n",
       "      <td>0.394919</td>\n",
       "      <td>0.462940</td>\n",
       "      <td>0.437062</td>\n",
       "      <td>0.357388</td>\n",
       "      <td>0.480049</td>\n",
       "    </tr>\n",
       "    <tr>\n",
       "      <th>min</th>\n",
       "      <td>0.010000</td>\n",
       "      <td>1.000000</td>\n",
       "      <td>0.000000</td>\n",
       "      <td>0.000000</td>\n",
       "      <td>0.000000</td>\n",
       "      <td>0.000000</td>\n",
       "      <td>0.000000</td>\n",
       "      <td>0.000000</td>\n",
       "      <td>0.000000</td>\n",
       "      <td>0.000000</td>\n",
       "      <td>0.000000</td>\n",
       "      <td>0.000000</td>\n",
       "      <td>0.000000</td>\n",
       "      <td>0.000000</td>\n",
       "      <td>0.000000</td>\n",
       "      <td>0.000000</td>\n",
       "    </tr>\n",
       "    <tr>\n",
       "      <th>25%</th>\n",
       "      <td>1.700000</td>\n",
       "      <td>3.000000</td>\n",
       "      <td>1.000000</td>\n",
       "      <td>0.000000</td>\n",
       "      <td>0.000000</td>\n",
       "      <td>0.000000</td>\n",
       "      <td>0.000000</td>\n",
       "      <td>0.000000</td>\n",
       "      <td>0.000000</td>\n",
       "      <td>0.000000</td>\n",
       "      <td>0.000000</td>\n",
       "      <td>0.000000</td>\n",
       "      <td>0.000000</td>\n",
       "      <td>0.000000</td>\n",
       "      <td>0.000000</td>\n",
       "      <td>0.000000</td>\n",
       "    </tr>\n",
       "    <tr>\n",
       "      <th>50%</th>\n",
       "      <td>3.500000</td>\n",
       "      <td>5.000000</td>\n",
       "      <td>2.000000</td>\n",
       "      <td>1.000000</td>\n",
       "      <td>0.000000</td>\n",
       "      <td>0.000000</td>\n",
       "      <td>1.000000</td>\n",
       "      <td>0.000000</td>\n",
       "      <td>0.000000</td>\n",
       "      <td>0.000000</td>\n",
       "      <td>0.000000</td>\n",
       "      <td>0.000000</td>\n",
       "      <td>0.000000</td>\n",
       "      <td>0.000000</td>\n",
       "      <td>0.000000</td>\n",
       "      <td>0.000000</td>\n",
       "    </tr>\n",
       "    <tr>\n",
       "      <th>75%</th>\n",
       "      <td>6.000000</td>\n",
       "      <td>8.000000</td>\n",
       "      <td>4.000000</td>\n",
       "      <td>1.000000</td>\n",
       "      <td>1.000000</td>\n",
       "      <td>0.000000</td>\n",
       "      <td>1.000000</td>\n",
       "      <td>1.000000</td>\n",
       "      <td>0.000000</td>\n",
       "      <td>0.000000</td>\n",
       "      <td>0.000000</td>\n",
       "      <td>0.000000</td>\n",
       "      <td>1.000000</td>\n",
       "      <td>1.000000</td>\n",
       "      <td>0.000000</td>\n",
       "      <td>1.000000</td>\n",
       "    </tr>\n",
       "    <tr>\n",
       "      <th>max</th>\n",
       "      <td>1935.000000</td>\n",
       "      <td>12.000000</td>\n",
       "      <td>30.000000</td>\n",
       "      <td>1.000000</td>\n",
       "      <td>1.000000</td>\n",
       "      <td>1.000000</td>\n",
       "      <td>1.000000</td>\n",
       "      <td>1.000000</td>\n",
       "      <td>1.000000</td>\n",
       "      <td>1.000000</td>\n",
       "      <td>1.000000</td>\n",
       "      <td>1.000000</td>\n",
       "      <td>1.000000</td>\n",
       "      <td>1.000000</td>\n",
       "      <td>1.000000</td>\n",
       "      <td>1.000000</td>\n",
       "    </tr>\n",
       "  </tbody>\n",
       "</table>\n",
       "</div>"
      ],
      "text/plain": [
       "              weight           hapM            age        neuterN  \\\n",
       "count  132921.000000  132921.000000  132921.000000  132921.000000   \n",
       "mean        5.480041       5.778733       2.782171       0.609934   \n",
       "std        10.257781       3.151417       2.696216       0.487767   \n",
       "min         0.010000       1.000000       0.000000       0.000000   \n",
       "25%         1.700000       3.000000       1.000000       0.000000   \n",
       "50%         3.500000       5.000000       2.000000       1.000000   \n",
       "75%         6.000000       8.000000       4.000000       1.000000   \n",
       "max      1935.000000      12.000000      30.000000       1.000000   \n",
       "\n",
       "             neuterU        neuterY            dog            cat  \\\n",
       "count  132921.000000  132921.000000  132921.000000  132921.000000   \n",
       "mean        0.333649       0.056417       0.736550       0.252090   \n",
       "std         0.471518       0.230726       0.440506       0.434214   \n",
       "min         0.000000       0.000000       0.000000       0.000000   \n",
       "25%         0.000000       0.000000       0.000000       0.000000   \n",
       "50%         0.000000       0.000000       1.000000       0.000000   \n",
       "75%         1.000000       0.000000       1.000000       1.000000   \n",
       "max         1.000000       1.000000       1.000000       1.000000   \n",
       "\n",
       "             kindETC        protect         return        death_E  \\\n",
       "count  132921.000000  132921.000000  132921.000000  132921.000000   \n",
       "mean        0.011360       0.064286       0.144838       0.193340   \n",
       "std         0.105977       0.245263       0.351939       0.394919   \n",
       "min         0.000000       0.000000       0.000000       0.000000   \n",
       "25%         0.000000       0.000000       0.000000       0.000000   \n",
       "50%         0.000000       0.000000       0.000000       0.000000   \n",
       "75%         0.000000       0.000000       0.000000       0.000000   \n",
       "max         1.000000       1.000000       1.000000       1.000000   \n",
       "\n",
       "               adopt        death_N          items            bad  \n",
       "count  132921.000000  132921.000000  132921.000000  132921.000000  \n",
       "mean        0.311087       0.257145       0.150322       0.360161  \n",
       "std         0.462940       0.437062       0.357388       0.480049  \n",
       "min         0.000000       0.000000       0.000000       0.000000  \n",
       "25%         0.000000       0.000000       0.000000       0.000000  \n",
       "50%         0.000000       0.000000       0.000000       0.000000  \n",
       "75%         1.000000       1.000000       0.000000       1.000000  \n",
       "max         1.000000       1.000000       1.000000       1.000000  "
      ]
     },
     "execution_count": 5,
     "metadata": {},
     "output_type": "execute_result"
    }
   ],
   "source": [
    "animal_data.describe()"
   ]
  },
  {
   "cell_type": "code",
   "execution_count": null,
   "metadata": {},
   "outputs": [],
   "source": []
  },
  {
   "cell_type": "markdown",
   "metadata": {},
   "source": [
    "## Data Split : Train / Test"
   ]
  },
  {
   "cell_type": "code",
   "execution_count": 6,
   "metadata": {},
   "outputs": [],
   "source": [
    "from sklearn.model_selection import train_test_split"
   ]
  },
  {
   "cell_type": "code",
   "execution_count": 7,
   "metadata": {},
   "outputs": [],
   "source": [
    "X_all = animal_data.drop(['protect', 'return', 'death_E', 'adopt', 'death_N'], axis = 1)\n",
    "y_protect = animal_data['protect']\n",
    "y_return = animal_data['return']\n",
    "y_death_E = animal_data['death_E']\n",
    "y_adopt = animal_data['adopt']\n",
    "y_death_N = animal_data['death_N']\n",
    "y_all = pd.concat([y_protect, y_return, y_adopt, y_death_E, y_death_N], axis=1, sort=False)"
   ]
  },
  {
   "cell_type": "code",
   "execution_count": 8,
   "metadata": {},
   "outputs": [
    {
     "data": {
      "text/html": [
       "<div>\n",
       "<style scoped>\n",
       "    .dataframe tbody tr th:only-of-type {\n",
       "        vertical-align: middle;\n",
       "    }\n",
       "\n",
       "    .dataframe tbody tr th {\n",
       "        vertical-align: top;\n",
       "    }\n",
       "\n",
       "    .dataframe thead th {\n",
       "        text-align: right;\n",
       "    }\n",
       "</style>\n",
       "<table border=\"1\" class=\"dataframe\">\n",
       "  <thead>\n",
       "    <tr style=\"text-align: right;\">\n",
       "      <th></th>\n",
       "      <th>protect</th>\n",
       "      <th>return</th>\n",
       "      <th>adopt</th>\n",
       "      <th>death_E</th>\n",
       "      <th>death_N</th>\n",
       "    </tr>\n",
       "  </thead>\n",
       "  <tbody>\n",
       "    <tr>\n",
       "      <th>0</th>\n",
       "      <td>0.0</td>\n",
       "      <td>0.0</td>\n",
       "      <td>1.0</td>\n",
       "      <td>0.0</td>\n",
       "      <td>0.0</td>\n",
       "    </tr>\n",
       "    <tr>\n",
       "      <th>1</th>\n",
       "      <td>1.0</td>\n",
       "      <td>0.0</td>\n",
       "      <td>0.0</td>\n",
       "      <td>0.0</td>\n",
       "      <td>0.0</td>\n",
       "    </tr>\n",
       "    <tr>\n",
       "      <th>2</th>\n",
       "      <td>0.0</td>\n",
       "      <td>0.0</td>\n",
       "      <td>0.0</td>\n",
       "      <td>0.0</td>\n",
       "      <td>1.0</td>\n",
       "    </tr>\n",
       "    <tr>\n",
       "      <th>3</th>\n",
       "      <td>0.0</td>\n",
       "      <td>1.0</td>\n",
       "      <td>0.0</td>\n",
       "      <td>0.0</td>\n",
       "      <td>0.0</td>\n",
       "    </tr>\n",
       "    <tr>\n",
       "      <th>4</th>\n",
       "      <td>0.0</td>\n",
       "      <td>0.0</td>\n",
       "      <td>1.0</td>\n",
       "      <td>0.0</td>\n",
       "      <td>0.0</td>\n",
       "    </tr>\n",
       "  </tbody>\n",
       "</table>\n",
       "</div>"
      ],
      "text/plain": [
       "   protect  return  adopt  death_E  death_N\n",
       "0      0.0     0.0    1.0      0.0      0.0\n",
       "1      1.0     0.0    0.0      0.0      0.0\n",
       "2      0.0     0.0    0.0      0.0      1.0\n",
       "3      0.0     1.0    0.0      0.0      0.0\n",
       "4      0.0     0.0    1.0      0.0      0.0"
      ]
     },
     "execution_count": 8,
     "metadata": {},
     "output_type": "execute_result"
    }
   ],
   "source": [
    "y_all.head()"
   ]
  },
  {
   "cell_type": "code",
   "execution_count": 9,
   "metadata": {},
   "outputs": [],
   "source": [
    "X_train_A, X_final_test, y_train_A, y_final_test = train_test_split(X_all, y_all, test_size = 0.2, random_state = 101)"
   ]
  },
  {
   "cell_type": "code",
   "execution_count": 10,
   "metadata": {},
   "outputs": [],
   "source": [
    "X_train, X_test, y_train, y_test = train_test_split(X_train_A, y_train_A, test_size = 0.2, random_state = 100)"
   ]
  },
  {
   "cell_type": "code",
   "execution_count": null,
   "metadata": {},
   "outputs": [],
   "source": []
  },
  {
   "cell_type": "code",
   "execution_count": 11,
   "metadata": {
    "scrolled": true
   },
   "outputs": [
    {
     "name": "stdout",
     "output_type": "stream",
     "text": [
      "106336 : 전체 트레인 데이터\n",
      "26585 : 최종 테스트 데이터 정답\n",
      "\n",
      "85068 : 부분 트레인 데이터\n",
      "21268 : 부분 테스트 데이터\n",
      "85068 : 부분 트레인 데이터 정답\n",
      "21268 : 부분 테스트 데이터 정답\n"
     ]
    }
   ],
   "source": [
    "print(X_train_A.count()[0], ': 전체 트레인 데이터')\n",
    "print(y_final_test.count()[0], ': 최종 테스트 데이터 정답')\n",
    "print()\n",
    "print(X_train.count()[0], ': 부분 트레인 데이터')\n",
    "print(X_test.count()[0], ': 부분 테스트 데이터')\n",
    "print(y_train.count()[0], ': 부분 트레인 데이터 정답')\n",
    "print(y_test.count()[0], ': 부분 테스트 데이터 정답')"
   ]
  },
  {
   "cell_type": "code",
   "execution_count": null,
   "metadata": {},
   "outputs": [],
   "source": []
  },
  {
   "cell_type": "code",
   "execution_count": 12,
   "metadata": {},
   "outputs": [],
   "source": [
    "from sklearn.linear_model import LogisticRegression\n",
    "from sklearn.metrics import classification_report, confusion_matrix"
   ]
  },
  {
   "cell_type": "code",
   "execution_count": 13,
   "metadata": {},
   "outputs": [],
   "source": [
    "y_train_protect = y_train['protect']\n",
    "y_train_return = y_train['return']\n",
    "y_train_adopt = y_train['adopt']\n",
    "y_train_death_E = y_train['death_E']\n",
    "y_train_death_N = y_train['death_N']"
   ]
  },
  {
   "cell_type": "code",
   "execution_count": 14,
   "metadata": {},
   "outputs": [],
   "source": [
    "y_test_protect = y_test['protect']\n",
    "y_test_return = y_test['return']\n",
    "y_test_adopt = y_test['adopt']\n",
    "y_test_death_E = y_test['death_E']\n",
    "y_test_death_N = y_test['death_N']"
   ]
  },
  {
   "cell_type": "code",
   "execution_count": 15,
   "metadata": {},
   "outputs": [
    {
     "data": {
      "text/plain": [
       "132050    0.0\n",
       "9921      0.0\n",
       "77088     0.0\n",
       "114133    0.0\n",
       "19947     0.0\n",
       "Name: protect, dtype: float64"
      ]
     },
     "execution_count": 15,
     "metadata": {},
     "output_type": "execute_result"
    }
   ],
   "source": [
    "y_train_protect.head()"
   ]
  },
  {
   "cell_type": "code",
   "execution_count": 16,
   "metadata": {},
   "outputs": [
    {
     "name": "stdout",
     "output_type": "stream",
     "text": [
      "             precision    recall  f1-score   support\n",
      "\n",
      "        0.0       0.82      0.91      0.86     15869\n",
      "        1.0       0.61      0.41      0.49      5399\n",
      "\n",
      "avg / total       0.77      0.78      0.77     21268\n",
      "\n",
      "[[14455  1414]\n",
      " [ 3164  2235]]\n"
     ]
    }
   ],
   "source": [
    "logistic_model = LogisticRegression()\n",
    "logistic_model.fit(X_train, y_train_death_N)\n",
    "logistic_prediction = logistic_model.predict(X_test)\n",
    "\n",
    "print(classification_report(y_test_death_N, logistic_prediction))\n",
    "print(confusion_matrix(y_test_death_N, logistic_prediction))"
   ]
  },
  {
   "cell_type": "code",
   "execution_count": null,
   "metadata": {},
   "outputs": [],
   "source": []
  },
  {
   "cell_type": "code",
   "execution_count": 17,
   "metadata": {},
   "outputs": [],
   "source": [
    "from sklearn.neighbors import KNeighborsClassifier"
   ]
  },
  {
   "cell_type": "code",
   "execution_count": 18,
   "metadata": {},
   "outputs": [
    {
     "name": "stdout",
     "output_type": "stream",
     "text": [
      "             precision    recall  f1-score   support\n",
      "\n",
      "        0.0       0.81      0.79      0.80     15869\n",
      "        1.0       0.42      0.44      0.43      5399\n",
      "\n",
      "avg / total       0.71      0.70      0.71     21268\n",
      "\n",
      "[[12578  3291]\n",
      " [ 3015  2384]]\n"
     ]
    }
   ],
   "source": [
    "knn_model = KNeighborsClassifier(n_neighbors=1)\n",
    "knn_model.fit(X_train, y_train_death_N)\n",
    "knn_prediction = knn_model.predict(X_test)\n",
    "\n",
    "print(classification_report(y_test_death_N, knn_prediction))\n",
    "print(confusion_matrix(y_test_death_N, knn_prediction))"
   ]
  },
  {
   "cell_type": "code",
   "execution_count": null,
   "metadata": {},
   "outputs": [],
   "source": []
  },
  {
   "cell_type": "code",
   "execution_count": 24,
   "metadata": {},
   "outputs": [],
   "source": [
    "knn_error_rate = []\n",
    "\n",
    "for i in range(1, 25):\n",
    "    knn_upgraded_model = KNeighborsClassifier(n_neighbors=i)\n",
    "    knn_upgraded_model.fit(X_train, y_train_death_N)\n",
    "    i_knn_model = knn_upgraded_model.predict(X_test)\n",
    "    knn_error_rate.append(np.mean(i_knn_model != y_test_death_N))"
   ]
  },
  {
   "cell_type": "code",
   "execution_count": 26,
   "metadata": {},
   "outputs": [],
   "source": [
    "knn_error_rate2 = []\n",
    "\n",
    "for i in range(25, 50):\n",
    "    knn_upgraded_model = KNeighborsClassifier(n_neighbors=i)\n",
    "    knn_upgraded_model.fit(X_train, y_train_death_N)\n",
    "    i_knn_model = knn_upgraded_model.predict(X_test)\n",
    "    knn_error_rate.append(np.mean(i_knn_model != y_test_death_N))"
   ]
  },
  {
   "cell_type": "code",
   "execution_count": 29,
   "metadata": {},
   "outputs": [],
   "source": [
    "knn_error_merge = knn_error_rate + knn_error_rate2[1:]"
   ]
  },
  {
   "cell_type": "code",
   "execution_count": 30,
   "metadata": {},
   "outputs": [
    {
     "data": {
      "text/plain": [
       "Text(0,0.5,'Error Rate')"
      ]
     },
     "execution_count": 30,
     "metadata": {},
     "output_type": "execute_result"
    },
    {
     "data": {
      "image/png": "[encoded data removed]",
      "text/plain": [
       "<Figure size 720x360 with 1 Axes>"
      ]
     },
     "metadata": {},
     "output_type": "display_data"
    }
   ],
   "source": [
    "plt.figure(figsize = (10, 5))\n",
    "plt.plot(range(1, 50), knn_error_merge, marker = 'o', markerfacecolor = 'red')\n",
    "plt.title('KNN Error Rate by K Value')\n",
    "plt.xlabel('K Value')\n",
    "plt.ylabel('Error Rate')"
   ]
  },
  {
   "cell_type": "code",
   "execution_count": 31,
   "metadata": {},
   "outputs": [
    {
     "data": {
      "text/plain": [
       "45"
      ]
     },
     "execution_count": 31,
     "metadata": {},
     "output_type": "execute_result"
    }
   ],
   "source": [
    "knn_error_rate.index(min(knn_error_merge)) + 1\n",
    "# find minimum error rate K Value"
   ]
  },
  {
   "cell_type": "code",
   "execution_count": 35,
   "metadata": {},
   "outputs": [
    {
     "name": "stdout",
     "output_type": "stream",
     "text": [
      "With K Value = 45\n",
      "             precision    recall  f1-score   support\n",
      "\n",
      "        0.0       0.82      0.92      0.87     15869\n",
      "        1.0       0.64      0.41      0.49      5399\n",
      "\n",
      "avg / total       0.77      0.79      0.77     21268\n",
      "\n",
      "[[14612  1257]\n",
      " [ 3211  2188]]\n"
     ]
    }
   ],
   "source": [
    "knn_final_model = KNeighborsClassifier(n_neighbors=45)\n",
    "knn_final_model.fit(X_train, y_train_death_N)\n",
    "knn_final_prediction = knn_final_model.predict(X_test)\n",
    "\n",
    "print('With K Value = 45')\n",
    "print(classification_report(y_test_death_N, knn_final_prediction))\n",
    "print(confusion_matrix(y_test_death_N, knn_final_prediction))"
   ]
  },
  {
   "cell_type": "code",
   "execution_count": null,
   "metadata": {},
   "outputs": [],
   "source": []
  },
  {
   "cell_type": "code",
   "execution_count": null,
   "metadata": {},
   "outputs": [],
   "source": []
  },
  {
   "cell_type": "code",
   "execution_count": null,
   "metadata": {},
   "outputs": [],
   "source": []
  }
 ],
 "metadata": {
  "kernelspec": {
   "display_name": "Python 3",
   "language": "python",
   "name": "python3"
  },
  "language_info": {
   "codemirror_mode": {
    "name": "ipython",
    "version": 3
   },
   "file_extension": ".py",
   "mimetype": "text/x-python",
   "name": "python",
   "nbconvert_exporter": "python",
   "pygments_lexer": "ipython3",
   "version": "3.6.5"
  }
 },
 "nbformat": 4,
 "nbformat_minor": 2
}
