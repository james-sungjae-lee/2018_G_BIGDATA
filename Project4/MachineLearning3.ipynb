{
 "cells": [
  {
   "cell_type": "markdown",
   "metadata": {},
   "source": [
    "## Machine Learning 3"
   ]
  },
  {
   "cell_type": "code",
   "execution_count": 1,
   "metadata": {},
   "outputs": [
    {
     "data": {
      "text/html": [
       "<div>\n",
       "<style scoped>\n",
       "    .dataframe tbody tr th:only-of-type {\n",
       "        vertical-align: middle;\n",
       "    }\n",
       "\n",
       "    .dataframe tbody tr th {\n",
       "        vertical-align: top;\n",
       "    }\n",
       "\n",
       "    .dataframe thead th {\n",
       "        text-align: right;\n",
       "    }\n",
       "</style>\n",
       "<table border=\"1\" class=\"dataframe\">\n",
       "  <thead>\n",
       "    <tr style=\"text-align: right;\">\n",
       "      <th></th>\n",
       "      <th>weight</th>\n",
       "      <th>hapM</th>\n",
       "      <th>age</th>\n",
       "      <th>neuterN</th>\n",
       "      <th>neuterU</th>\n",
       "      <th>neuterY</th>\n",
       "      <th>dog</th>\n",
       "      <th>cat</th>\n",
       "      <th>kindETC</th>\n",
       "      <th>items</th>\n",
       "      <th>bad</th>\n",
       "      <th>state</th>\n",
       "    </tr>\n",
       "  </thead>\n",
       "  <tbody>\n",
       "    <tr>\n",
       "      <th>0</th>\n",
       "      <td>0.9</td>\n",
       "      <td>7.0</td>\n",
       "      <td>1.0</td>\n",
       "      <td>1.0</td>\n",
       "      <td>0.0</td>\n",
       "      <td>0.0</td>\n",
       "      <td>0.0</td>\n",
       "      <td>1.0</td>\n",
       "      <td>0.0</td>\n",
       "      <td>0.0</td>\n",
       "      <td>0.0</td>\n",
       "      <td>AD</td>\n",
       "    </tr>\n",
       "    <tr>\n",
       "      <th>1</th>\n",
       "      <td>4.2</td>\n",
       "      <td>7.0</td>\n",
       "      <td>3.0</td>\n",
       "      <td>1.0</td>\n",
       "      <td>0.0</td>\n",
       "      <td>0.0</td>\n",
       "      <td>1.0</td>\n",
       "      <td>0.0</td>\n",
       "      <td>0.0</td>\n",
       "      <td>0.0</td>\n",
       "      <td>0.0</td>\n",
       "      <td>PR</td>\n",
       "    </tr>\n",
       "    <tr>\n",
       "      <th>2</th>\n",
       "      <td>0.3</td>\n",
       "      <td>6.0</td>\n",
       "      <td>1.0</td>\n",
       "      <td>0.0</td>\n",
       "      <td>1.0</td>\n",
       "      <td>0.0</td>\n",
       "      <td>0.0</td>\n",
       "      <td>1.0</td>\n",
       "      <td>0.0</td>\n",
       "      <td>0.0</td>\n",
       "      <td>1.0</td>\n",
       "      <td>ND</td>\n",
       "    </tr>\n",
       "    <tr>\n",
       "      <th>3</th>\n",
       "      <td>3.0</td>\n",
       "      <td>6.0</td>\n",
       "      <td>6.0</td>\n",
       "      <td>1.0</td>\n",
       "      <td>0.0</td>\n",
       "      <td>0.0</td>\n",
       "      <td>1.0</td>\n",
       "      <td>0.0</td>\n",
       "      <td>0.0</td>\n",
       "      <td>0.0</td>\n",
       "      <td>0.0</td>\n",
       "      <td>RE</td>\n",
       "    </tr>\n",
       "    <tr>\n",
       "      <th>4</th>\n",
       "      <td>5.0</td>\n",
       "      <td>3.0</td>\n",
       "      <td>6.0</td>\n",
       "      <td>1.0</td>\n",
       "      <td>0.0</td>\n",
       "      <td>0.0</td>\n",
       "      <td>1.0</td>\n",
       "      <td>0.0</td>\n",
       "      <td>0.0</td>\n",
       "      <td>0.0</td>\n",
       "      <td>0.0</td>\n",
       "      <td>AD</td>\n",
       "    </tr>\n",
       "  </tbody>\n",
       "</table>\n",
       "</div>"
      ],
      "text/plain": [
       "   weight  hapM  age  neuterN  neuterU  neuterY  dog  cat  kindETC  items  \\\n",
       "0     0.9   7.0  1.0      1.0      0.0      0.0  0.0  1.0      0.0    0.0   \n",
       "1     4.2   7.0  3.0      1.0      0.0      0.0  1.0  0.0      0.0    0.0   \n",
       "2     0.3   6.0  1.0      0.0      1.0      0.0  0.0  1.0      0.0    0.0   \n",
       "3     3.0   6.0  6.0      1.0      0.0      0.0  1.0  0.0      0.0    0.0   \n",
       "4     5.0   3.0  6.0      1.0      0.0      0.0  1.0  0.0      0.0    0.0   \n",
       "\n",
       "   bad state  \n",
       "0  0.0    AD  \n",
       "1  0.0    PR  \n",
       "2  1.0    ND  \n",
       "3  0.0    RE  \n",
       "4  0.0    AD  "
      ]
     },
     "execution_count": 1,
     "metadata": {},
     "output_type": "execute_result"
    }
   ],
   "source": [
    "import pandas as pd\n",
    "import numpy as np\n",
    "import matplotlib.pyplot as plt\n",
    "import seaborn as sns\n",
    "%matplotlib inline\n",
    "\n",
    "animal_data = pd.read_csv('data_state_class.csv')\n",
    "animal_data = animal_data.drop(['Unnamed: 0'], axis = 1)\n",
    "animal_data.head()\n",
    "\n",
    "animal_data.head()"
   ]
  },
  {
   "cell_type": "code",
   "execution_count": 2,
   "metadata": {},
   "outputs": [],
   "source": [
    "from sklearn.model_selection import train_test_split"
   ]
  },
  {
   "cell_type": "code",
   "execution_count": 3,
   "metadata": {},
   "outputs": [],
   "source": [
    "X_all = animal_data.drop(['state'], axis = 1)\n",
    "y_all = animal_data['state']"
   ]
  },
  {
   "cell_type": "code",
   "execution_count": 4,
   "metadata": {},
   "outputs": [],
   "source": [
    "X_train_A, X_final_test, y_train_A, y_final_test = train_test_split(X_all, y_all, test_size = 0.2, random_state = 101)"
   ]
  },
  {
   "cell_type": "code",
   "execution_count": 5,
   "metadata": {},
   "outputs": [],
   "source": [
    "X_train, X_test, y_train, y_test = train_test_split(X_train_A, y_train_A, test_size = 0.2, random_state = 100)"
   ]
  },
  {
   "cell_type": "code",
   "execution_count": null,
   "metadata": {},
   "outputs": [],
   "source": []
  },
  {
   "cell_type": "code",
   "execution_count": 6,
   "metadata": {},
   "outputs": [],
   "source": [
    "from sklearn.linear_model import LogisticRegression\n",
    "from sklearn.metrics import classification_report, confusion_matrix"
   ]
  },
  {
   "cell_type": "code",
   "execution_count": 7,
   "metadata": {},
   "outputs": [
    {
     "name": "stdout",
     "output_type": "stream",
     "text": [
      "             precision    recall  f1-score   support\n",
      "\n",
      "         AD       0.38      0.60      0.47      6644\n",
      "         ED       0.33      0.27      0.30      4119\n",
      "         ND       0.53      0.55      0.54      5399\n",
      "         PR       0.00      0.00      0.00      1382\n",
      "         RE       0.38      0.24      0.30      3064\n",
      "          X       0.00      0.00      0.00       660\n",
      "\n",
      "avg / total       0.37      0.41      0.38     21268\n",
      "\n",
      "[[3956  806 1458    0  424    0]\n",
      " [2094 1112  470    0  443    0]\n",
      " [1598  593 2959    0  249    0]\n",
      " [ 854  173  301    0   54    0]\n",
      " [1580  629  106    0  749    0]\n",
      " [ 245   63  324    0   28    0]]\n"
     ]
    },
    {
     "name": "stderr",
     "output_type": "stream",
     "text": [
      "/anaconda3/lib/python3.6/site-packages/sklearn/metrics/classification.py:1135: UndefinedMetricWarning: Precision and F-score are ill-defined and being set to 0.0 in labels with no predicted samples.\n",
      "  'precision', 'predicted', average, warn_for)\n"
     ]
    }
   ],
   "source": [
    "logistic_model = LogisticRegression()\n",
    "logistic_model.fit(X_train, y_train)\n",
    "logistic_prediction = logistic_model.predict(X_test)\n",
    "\n",
    "print(classification_report(y_test, logistic_prediction))\n",
    "print(confusion_matrix(y_test, logistic_prediction))"
   ]
  },
  {
   "cell_type": "code",
   "execution_count": null,
   "metadata": {},
   "outputs": [],
   "source": []
  },
  {
   "cell_type": "code",
   "execution_count": 8,
   "metadata": {},
   "outputs": [],
   "source": [
    "from sklearn.neighbors import KNeighborsClassifier"
   ]
  },
  {
   "cell_type": "code",
   "execution_count": 9,
   "metadata": {},
   "outputs": [
    {
     "name": "stdout",
     "output_type": "stream",
     "text": [
      "             precision    recall  f1-score   support\n",
      "\n",
      "         AD       0.38      0.38      0.38      6644\n",
      "         ED       0.27      0.27      0.27      4119\n",
      "         ND       0.42      0.44      0.43      5399\n",
      "         PR       0.14      0.14      0.14      1382\n",
      "         RE       0.25      0.25      0.25      3064\n",
      "          X       0.10      0.09      0.09       660\n",
      "\n",
      "avg / total       0.33      0.33      0.33     21268\n",
      "\n",
      "[[2495 1158 1477  419  901  194]\n",
      " [1101 1101  888  254  691   84]\n",
      " [1371  799 2384  266  418  161]\n",
      " [ 409  269  300  190  184   30]\n",
      " [ 923  702  409  183  766   81]\n",
      " [ 200   73  217   39   71   60]]\n"
     ]
    }
   ],
   "source": [
    "knn_model = KNeighborsClassifier(n_neighbors=1)\n",
    "knn_model.fit(X_train, y_train)\n",
    "knn_prediction = knn_model.predict(X_test)\n",
    "\n",
    "print(classification_report(y_test, knn_prediction))\n",
    "print(confusion_matrix(y_test, knn_prediction))"
   ]
  },
  {
   "cell_type": "code",
   "execution_count": null,
   "metadata": {},
   "outputs": [],
   "source": []
  },
  {
   "cell_type": "code",
   "execution_count": 10,
   "metadata": {},
   "outputs": [
    {
     "name": "stdout",
     "output_type": "stream",
     "text": [
      "100 th test\n",
      "200 th test\n",
      "300 th test\n",
      "400 th test\n"
     ]
    }
   ],
   "source": [
    "knn_error_rate = []\n",
    "\n",
    "for i in range(1, 51):\n",
    "    knn_upgraded_model = KNeighborsClassifier(n_neighbors=i)\n",
    "    knn_upgraded_model.fit(X_train, y_train)\n",
    "    i_knn_model = knn_upgraded_model.predict(X_test)\n",
    "    knn_error_rate.append(np.mean(i_knn_model != y_test))\n",
    "    if i % 10 == 0:\n",
    "        print('test number : ', i)"
   ]
  },
  {
   "cell_type": "code",
   "execution_count": 13,
   "metadata": {},
   "outputs": [
    {
     "data": {
      "text/plain": [
       "Text(0,0.5,'Error Rate')"
      ]
     },
     "execution_count": 13,
     "metadata": {},
     "output_type": "execute_result"
    },
    {
     "data": {
      "image/png": "[encoded data removed]",
      "text/plain": [
       "<Figure size 720x360 with 1 Axes>"
      ]
     },
     "metadata": {},
     "output_type": "display_data"
    }
   ],
   "source": [
    "plt.figure(figsize = (10, 5))\n",
    "plt.plot(range(1, 51), knn_error_rate, marker = 'o', markerfacecolor = 'red')\n",
    "plt.title('KNN Error Rate by K Value')\n",
    "plt.xlabel('K Value')\n",
    "plt.ylabel('Error Rate')"
   ]
  },
  {
   "cell_type": "code",
   "execution_count": 14,
   "metadata": {},
   "outputs": [
    {
     "data": {
      "text/plain": [
       "35"
      ]
     },
     "execution_count": 14,
     "metadata": {},
     "output_type": "execute_result"
    }
   ],
   "source": [
    "knn_error_rate.index(min(knn_error_rate)) + 1\n",
    "# find minimum error rate K Value"
   ]
  },
  {
   "cell_type": "code",
   "execution_count": 15,
   "metadata": {},
   "outputs": [
    {
     "name": "stdout",
     "output_type": "stream",
     "text": [
      "With K Value = 35\n",
      "             precision    recall  f1-score   support\n",
      "\n",
      "         AD       0.40      0.58      0.47      6644\n",
      "         ED       0.34      0.32      0.33      4119\n",
      "         ND       0.54      0.53      0.54      5399\n",
      "         PR       0.30      0.05      0.09      1382\n",
      "         RE       0.35      0.25      0.29      3064\n",
      "          X       0.00      0.00      0.00       660\n",
      "\n",
      "avg / total       0.40      0.42      0.40     21268\n",
      "\n",
      "[[3848  966 1222   68  539    1]\n",
      " [1689 1334  585   36  475    0]\n",
      " [1615  602 2883   45  254    0]\n",
      " [ 717  242  262   70   91    0]\n",
      " [1417  714  157   14  762    0]\n",
      " [ 291   67  261    1   40    0]]\n"
     ]
    }
   ],
   "source": [
    "knn_final_model = KNeighborsClassifier(n_neighbors=35)\n",
    "knn_final_model.fit(X_train, y_train)\n",
    "knn_final_prediction = knn_final_model.predict(X_test)\n",
    "\n",
    "print('With K Value = 35')\n",
    "print(classification_report(y_test, knn_final_prediction))\n",
    "print(confusion_matrix(y_test, knn_final_prediction))"
   ]
  },
  {
   "cell_type": "code",
   "execution_count": null,
   "metadata": {},
   "outputs": [],
   "source": []
  },
  {
   "cell_type": "code",
   "execution_count": null,
   "metadata": {},
   "outputs": [],
   "source": []
  }
 ],
 "metadata": {
  "kernelspec": {
   "display_name": "Python 3",
   "language": "python",
   "name": "python3"
  },
  "language_info": {
   "codemirror_mode": {
    "name": "ipython",
    "version": 3
   },
   "file_extension": ".py",
   "mimetype": "text/x-python",
   "name": "python",
   "nbconvert_exporter": "python",
   "pygments_lexer": "ipython3",
   "version": "3.6.5"
  }
 },
 "nbformat": 4,
 "nbformat_minor": 2
}
