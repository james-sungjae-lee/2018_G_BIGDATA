{
 "cells": [
  {
   "cell_type": "markdown",
   "metadata": {},
   "source": [
    "## If State Test"
   ]
  },
  {
   "cell_type": "markdown",
   "metadata": {},
   "source": [
    "## 20180723\n",
    "## Sungjae Lee"
   ]
  },
  {
   "cell_type": "code",
   "execution_count": 8,
   "metadata": {},
   "outputs": [
    {
     "name": "stdout",
     "output_type": "stream",
     "text": [
      "패스워드를 입력하세요:123\n",
      "패스워드를 입력하세요:1234\n",
      "환영합니다. 어서오세요\n"
     ]
    }
   ],
   "source": [
    "# Ex1\n",
    "\n",
    "password = 1234\n",
    "while True:\n",
    "    pw = int(input('패스워드를 입력하세요:'))\n",
    "    if pw == password:\n",
    "        print('환영합니다. 어서오세요')\n",
    "        break"
   ]
  },
  {
   "cell_type": "code",
   "execution_count": 12,
   "metadata": {},
   "outputs": [
    {
     "name": "stdout",
     "output_type": "stream",
     "text": [
      "x --->1\n",
      "y --->2\n",
      "x is smaller than y\n"
     ]
    }
   ],
   "source": [
    "# Ex2\n",
    "\n",
    "x = int(input('x --->'))\n",
    "y = int(input('y --->'))\n",
    "\n",
    "if x < y:\n",
    "    check = 'smaller'\n",
    "else:\n",
    "    check = 'bigger'\n",
    "    \n",
    "print('x is {} than y'.format(check))"
   ]
  },
  {
   "cell_type": "code",
   "execution_count": 15,
   "metadata": {},
   "outputs": [
    {
     "name": "stdout",
     "output_type": "stream",
     "text": [
      "--->85\n",
      "socre = 85, grade = B\n"
     ]
    }
   ],
   "source": [
    "# Ex3\n",
    "\n",
    "score = int(input('--->'))\n",
    "\n",
    "if score > 90:\n",
    "    grade = 'A'\n",
    "elif score > 80:\n",
    "    grade = 'B'\n",
    "else:\n",
    "    grade = 'C'\n",
    "    \n",
    "print('socre = {}, grade = {}'.format(score, grade))"
   ]
  },
  {
   "cell_type": "code",
   "execution_count": 17,
   "metadata": {},
   "outputs": [
    {
     "name": "stdout",
     "output_type": "stream",
     "text": [
      "--->4\n",
      "4 is an even number\n"
     ]
    }
   ],
   "source": [
    "# Ex4\n",
    "\n",
    "x = int(input('--->'))\n",
    "\n",
    "check = 'odd'\n",
    "if x % 2 is 0:\n",
    "    check = 'even'\n",
    "\n",
    "print('{} is an {} number'.format(x, check))"
   ]
  },
  {
   "cell_type": "code",
   "execution_count": 19,
   "metadata": {},
   "outputs": [
    {
     "name": "stdout",
     "output_type": "stream",
     "text": [
      "이름을 입력하세요Jon\n",
      "{'Mary': 10999, 'Sams': 2111, 'Aimy': 9778, 'Tom': 20245, 'Michale': 27115, 'Bob': 5887, 'Kelly': 7855, 'Jon': '00000'}\n"
     ]
    }
   ],
   "source": [
    "# Ex5\n",
    "\n",
    "names = {'Mary':10999, 'Sams':2111, 'Aimy':9778, 'Tom':20245, \n",
    "'Michale':27115, 'Bob':5887, 'Kelly':7855}\n",
    "\n",
    "name = input('이름을 입력하세요')\n",
    "\n",
    "# 이름이 있으면 값을 출력 이름이 없으면 names dict에 name과 값00000을 입력\n",
    "\n",
    "if name in names:\n",
    "    print(names[name])\n",
    "else:\n",
    "    names[name] = '00000'\n",
    "    print(names)"
   ]
  }
 ],
 "metadata": {
  "kernelspec": {
   "display_name": "Python 3",
   "language": "python",
   "name": "python3"
  },
  "language_info": {
   "codemirror_mode": {
    "name": "ipython",
    "version": 3
   },
   "file_extension": ".py",
   "mimetype": "text/x-python",
   "name": "python",
   "nbconvert_exporter": "python",
   "pygments_lexer": "ipython3",
   "version": "3.6.5"
  }
 },
 "nbformat": 4,
 "nbformat_minor": 2
}
