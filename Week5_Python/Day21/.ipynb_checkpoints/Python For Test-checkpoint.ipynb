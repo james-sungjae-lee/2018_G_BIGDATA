{
 "cells": [
  {
   "cell_type": "markdown",
   "metadata": {},
   "source": [
    "## Python For & While Test"
   ]
  },
  {
   "cell_type": "markdown",
   "metadata": {},
   "source": [
    "## 20180723\n",
    "## Sungjae Lee"
   ]
  },
  {
   "cell_type": "code",
   "execution_count": 2,
   "metadata": {},
   "outputs": [
    {
     "name": "stdout",
     "output_type": "stream",
     "text": [
      "Enter grade: 1\n",
      "Enter grade: 2\n",
      "Enter grade: 3\n",
      "Enter grade: 4\n",
      "Enter grade: 5\n",
      "Class average is  3.0\n"
     ]
    }
   ],
   "source": [
    "# Ex1\n",
    "\n",
    "total = 0\n",
    "count = 0\n",
    "\n",
    "# 5명 성적 평균 출력\n",
    "# 5명 성적 순차적으로 입력받고 평균 출력\n",
    "\n",
    "for i in range(5):\n",
    "    total += int(input('Enter grade: '))\n",
    "    count += 1\n",
    "avrg = total / count\n",
    "\n",
    "print (\"Class average is \", avrg)"
   ]
  },
  {
   "cell_type": "markdown",
   "metadata": {},
   "source": [
    "## 팩토리얼\n",
    "num = int(input(\"Enter number: \"))\n",
    "\n",
    "\n",
    "print (str(num) + \"! is \" + str(result))"
   ]
  },
  {
   "cell_type": "code",
   "execution_count": 4,
   "metadata": {},
   "outputs": [
    {
     "name": "stdout",
     "output_type": "stream",
     "text": [
      "1\n",
      "3\n",
      "5\n"
     ]
    }
   ],
   "source": [
    "# Ex2\n",
    "\n",
    "scope = [1, 2, 3, 4, 5, 6, 7]\n",
    "\n",
    "# 6보다 작은 범위에서 break와 continue를 사용해서 홀수만 출력\n",
    "\n",
    "for i in scope:\n",
    "    if i >= 6:\n",
    "        break\n",
    "    if i % 2 is 1:\n",
    "        print(i)\n",
    "    else:\n",
    "        continue"
   ]
  },
  {
   "cell_type": "code",
   "execution_count": 6,
   "metadata": {},
   "outputs": [
    {
     "name": "stdout",
     "output_type": "stream",
     "text": [
      "---> 10\n",
      "n = 10 : nSum = 55\n"
     ]
    }
   ],
   "source": [
    "# Ex3\n",
    "\n",
    "n = int(input('---> '))\n",
    "\n",
    "# 받은 수의 0부터 숫자까지 누적합\n",
    "\n",
    "nSum = 0\n",
    "for i in range(n + 1):\n",
    "    nSum += i\n",
    "    \n",
    "print('n = {} : nSum = {}'.format(n, nSum))"
   ]
  },
  {
   "cell_type": "code",
   "execution_count": 7,
   "metadata": {},
   "outputs": [
    {
     "name": "stdout",
     "output_type": "stream",
     "text": [
      "---> 10\n",
      "n = 10 : oddSum = 25, evenSum = 30\n"
     ]
    }
   ],
   "source": [
    "# Ex4\n",
    "\n",
    "n = int(input('---> '))\n",
    "\n",
    "# 입력받은 수까지 홀수합, 짝수합\n",
    "oddSum = 0\n",
    "evenSum = 0\n",
    "for i in range(n+1):\n",
    "    if i % 2 is 0:\n",
    "        evenSum += i\n",
    "    else:\n",
    "        oddSum += i\n",
    "print('n = {} : oddSum = {}, evenSum = {}'.format(n, oddSum, evenSum))"
   ]
  },
  {
   "cell_type": "code",
   "execution_count": 8,
   "metadata": {},
   "outputs": [
    {
     "name": "stdout",
     "output_type": "stream",
     "text": [
      "Min = 60, Max = 100\n"
     ]
    }
   ],
   "source": [
    "# Ex5\n",
    "\n",
    "L = [ 70, 100, 80, 60, 90]\n",
    "nMin = nMax = L[0]\n",
    "# nMin = min(L)\n",
    "# nMax = max(L)\n",
    "\n",
    "# 리스트에서 for문을 사용해서 최대값, 최소값 구하기\n",
    "\n",
    "for i in L:\n",
    "    if i < nMin:\n",
    "        nMin = i\n",
    "    if i > nMax:\n",
    "        nMax = i\n",
    "\n",
    "print('Min = {}, Max = {}'.format(nMin, nMax))"
   ]
  },
  {
   "cell_type": "code",
   "execution_count": 42,
   "metadata": {},
   "outputs": [
    {
     "name": "stdout",
     "output_type": "stream",
     "text": [
      "1x1=1\t 1x2=2\t 1x3=3\t 1x4=4\t 1x5=5\t 1x6=6\t 1x7=7\t 1x8=8\t 1x9=9\t \n",
      "2x1=2\t 2x2=4\t 2x3=6\t 2x4=8\t 2x5=10\t 2x6=12\t 2x7=14\t 2x8=16\t 2x9=18\t \n",
      "3x1=3\t 3x2=6\t 3x3=9\t 3x4=12\t 3x5=15\t 3x6=18\t 3x7=21\t 3x8=24\t 3x9=27\t \n",
      "4x1=4\t 4x2=8\t 4x3=12\t 4x4=16\t 4x5=20\t 4x6=24\t 4x7=28\t 4x8=32\t 4x9=36\t \n",
      "5x1=5\t 5x2=10\t 5x3=15\t 5x4=20\t 5x5=25\t 5x6=30\t 5x7=35\t 5x8=40\t 5x9=45\t \n",
      "6x1=6\t 6x2=12\t 6x3=18\t 6x4=24\t 6x5=30\t 6x6=36\t 6x7=42\t 6x8=48\t 6x9=54\t \n",
      "7x1=7\t 7x2=14\t 7x3=21\t 7x4=28\t 7x5=35\t 7x6=42\t 7x7=49\t 7x8=56\t 7x9=63\t \n",
      "8x1=8\t 8x2=16\t 8x3=24\t 8x4=32\t 8x5=40\t 8x6=48\t 8x7=56\t 8x8=64\t 8x9=72\t \n",
      "9x1=9\t 9x2=18\t 9x3=27\t 9x4=36\t 9x5=45\t 9x6=54\t 9x7=63\t 9x8=72\t 9x9=81\t \n"
     ]
    }
   ],
   "source": [
    "# Ex6\n",
    "\n",
    "# 구구단 출력\n",
    "\n",
    "for i in range(1, 10):\n",
    "    for j in range(1, 10):\n",
    "        print('{}x{}={}'.format(i, j, i*j) + '\\t', end = ' ')\n",
    "    print()\n",
    "    \n"
   ]
  },
  {
   "cell_type": "code",
   "execution_count": 29,
   "metadata": {},
   "outputs": [
    {
     "name": "stdout",
     "output_type": "stream",
     "text": [
      "양의 정수---> 9\n",
      "9는 소수가 아니다\n"
     ]
    }
   ],
   "source": [
    "n = int(input('양의 정수---> '))\n",
    "\n",
    "# while문을 이용해서 소수인지 판별하기\n",
    "\n",
    "x = 2\n",
    "while x is not n:\n",
    "    if n % x is 0:\n",
    "        print('{}는 소수가 아니다'.format(n))\n",
    "        break\n",
    "    x += 1\n",
    "if x is n:\n",
    "    print('{}는 소수이다'.format(n))"
   ]
  },
  {
   "cell_type": "code",
   "execution_count": 31,
   "metadata": {},
   "outputs": [
    {
     "name": "stdout",
     "output_type": "stream",
     "text": [
      "\n",
      "\n",
      "*\n",
      "\n",
      "**\n",
      "\n",
      "***\n",
      "\n",
      "****\n",
      "\n",
      "*****\n",
      "\n",
      "******\n",
      "\n",
      "*******\n",
      "\n",
      "********\n",
      "\n",
      "*********\n",
      "\n"
     ]
    }
   ],
   "source": [
    "for i in range(10):\n",
    "    print('*'*i)\n",
    "    print()\n",
    " "
   ]
  },
  {
   "cell_type": "code",
   "execution_count": 33,
   "metadata": {},
   "outputs": [
    {
     "name": "stdout",
     "output_type": "stream",
     "text": [
      "**********\n",
      "\n",
      " *********\n",
      "\n",
      "  ********\n",
      "\n",
      "   *******\n",
      "\n",
      "    ******\n",
      "\n",
      "     *****\n",
      "\n",
      "      ****\n",
      "\n",
      "       ***\n",
      "\n",
      "        **\n",
      "\n",
      "         *\n",
      "\n"
     ]
    }
   ],
   "source": [
    "for i in range(10):\n",
    "    print(' '*i+'*'*(10-i))\n",
    "    print()\n"
   ]
  },
  {
   "cell_type": "code",
   "execution_count": 43,
   "metadata": {},
   "outputs": [
    {
     "name": "stdout",
     "output_type": "stream",
     "text": [
      "8\n"
     ]
    }
   ],
   "source": [
    "count = 0\n",
    "\n",
    "# 'computational thinking'에서 모음의 갯수 출력\n",
    "\n",
    "my_string = 'computational thinking'\n",
    "vowel = ['a', 'e', 'i', 'o', 'u']\n",
    "\n",
    "for i in my_string:\n",
    "    if i in vowel:\n",
    "        count += 1\n",
    "print(count)"
   ]
  }
 ],
 "metadata": {
  "kernelspec": {
   "display_name": "Python 3",
   "language": "python",
   "name": "python3"
  },
  "language_info": {
   "codemirror_mode": {
    "name": "ipython",
    "version": 3
   },
   "file_extension": ".py",
   "mimetype": "text/x-python",
   "name": "python",
   "nbconvert_exporter": "python",
   "pygments_lexer": "ipython3",
   "version": "3.6.5"
  }
 },
 "nbformat": 4,
 "nbformat_minor": 2
}
