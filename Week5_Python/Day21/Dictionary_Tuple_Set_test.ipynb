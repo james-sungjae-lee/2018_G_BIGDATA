{
 "cells": [
  {
   "cell_type": "markdown",
   "metadata": {},
   "source": [
    "## Dictionary_Tuple_Set"
   ]
  },
  {
   "cell_type": "markdown",
   "metadata": {},
   "source": [
    "### 20180723\n",
    "### Sungjae Lee"
   ]
  },
  {
   "cell_type": "markdown",
   "metadata": {},
   "source": [
    "### Tuple"
   ]
  },
  {
   "cell_type": "code",
   "execution_count": 8,
   "metadata": {},
   "outputs": [
    {
     "name": "stdout",
     "output_type": "stream",
     "text": [
      "('tuple', (1, 2, 3), [4, 5, 6])\n",
      "3\n",
      "[4, 5]\n",
      "4\n",
      "(1, 2, 3)\n"
     ]
    }
   ],
   "source": [
    "# Ex1\n",
    "\n",
    "myTuple = (\"tuple\", (1, 2, 3), [4, 5, 6])\n",
    "\n",
    "# 'tuple'을 출력하시오\n",
    "\n",
    "print(myTuple)\n",
    "\n",
    "# 3을 출력하세요\n",
    "\n",
    "print(myTuple[1][2])\n",
    "\n",
    "# 4, 5를 출력하세요\n",
    "\n",
    "print(myTuple[2][0:2])\n",
    "\n",
    "# 4를 출력하세요\n",
    "\n",
    "print(myTuple[2][0])\n",
    "\n",
    "# (1, 2, 3)을 출력하세요\n",
    "\n",
    "print(myTuple[1])\n"
   ]
  },
  {
   "cell_type": "code",
   "execution_count": 19,
   "metadata": {},
   "outputs": [
    {
     "name": "stdout",
     "output_type": "stream",
     "text": [
      "(1, 2, 3, 3, 2, 1, 4, 5, 6)\n",
      "(1, 2, 3, 3, 2, 1, 1, 2, 3, 3, 2, 1, 1, 2, 3, 3, 2, 1)\n",
      "True\n",
      "False\n",
      "2\n",
      "3\n"
     ]
    }
   ],
   "source": [
    "# Ex2\n",
    "\n",
    "my_tuple = (1, 2, 3, 3, 2, 1)\n",
    "your_tuple = (4, 5, 6)\n",
    "\n",
    "# 튜플 연산\n",
    "# my_tuple과 your_tuple을 연결하세요\n",
    "\n",
    "print(my_tuple + your_tuple)\n",
    "\n",
    "# mytuple을 3번 반복하세요\n",
    "\n",
    "print(my_tuple*3)\n",
    "\n",
    "# mytuple에 3이 있는지 확인하세요\n",
    "\n",
    "print(3 in my_tuple)\n",
    "\n",
    "# mytuple에 5가 있는지 확인하세요\n",
    "\n",
    "print(5 in my_tuple)\n",
    "\n",
    "# mytuple에서 1의 갯수를 출력하세요\n",
    "\n",
    "print(my_tuple.count(1))\n",
    "\n",
    "# mytuple에서 index 2자리의 값을 출력하세요\n",
    "\n",
    "print(my_tuple[2])"
   ]
  },
  {
   "cell_type": "code",
   "execution_count": 8,
   "metadata": {},
   "outputs": [
    {
     "name": "stdout",
     "output_type": "stream",
     "text": [
      "3\n",
      "120.09\n",
      "2.8\n",
      "132.0\n",
      "44.0\n",
      "[2.8, 9.11, 120.09]\n"
     ]
    }
   ],
   "source": [
    "# Ex3\n",
    "\n",
    "t_float = (120.09, 9.11, 2.8)\n",
    "L_int = [1, 2, 3]\n",
    "\n",
    "# t_float의 길이를 출력하세요\n",
    "\n",
    "print(len(t_float))\n",
    "\n",
    "# t_float의 최대값을 출력하세요\n",
    "\n",
    "print(max(t_float))\n",
    "\n",
    "# t_float의 최소값을 출력하세요\n",
    "\n",
    "print(min(t_float))\n",
    "\n",
    "# t_float의 합을 출력하세요.\n",
    "\n",
    "print(sum(t_float))\n",
    "\n",
    "# t_float의 평균을 출력하세요.\n",
    "\n",
    "print(sum(t_float)/len(t_float))\n",
    "\n",
    "# t_float를 오름차순 정렬하세요\n",
    "\n",
    "print(sorted(t_float))"
   ]
  },
  {
   "cell_type": "markdown",
   "metadata": {},
   "source": [
    "### Set"
   ]
  },
  {
   "cell_type": "code",
   "execution_count": 10,
   "metadata": {},
   "outputs": [
    {
     "name": "stdout",
     "output_type": "stream",
     "text": [
      "<class 'type'>\n"
     ]
    }
   ],
   "source": [
    "# Ex1\n",
    "\n",
    "# my_set이라는 빈 집합을 만들고 타입을 출력하세요..\n",
    "my_set = type(set)\n",
    "print(type(my_set))"
   ]
  },
  {
   "cell_type": "code",
   "execution_count": 43,
   "metadata": {},
   "outputs": [
    {
     "name": "stdout",
     "output_type": "stream",
     "text": [
      "{'earth', 'sea', ('1', '2')}\n"
     ]
    }
   ],
   "source": [
    "# Ex2\n",
    "\n",
    "# 'sky'와 'sea'를 요소로 하는 set을 만드세요\n",
    "# 'earth' 요소를 추가하세요\n",
    "# ('1', '2') 요소를 추가하세요\n",
    "# 무작위로 요소 하나를 삭제하세요\n",
    "\n",
    "my_set = {'sky', 'sea'}\n",
    "my_set.add('earth')\n",
    "my_set.add(('1', '2'))\n",
    "\n",
    "my_set.pop()\n",
    "print(my_set)"
   ]
  },
  {
   "cell_type": "code",
   "execution_count": 53,
   "metadata": {},
   "outputs": [
    {
     "name": "stdout",
     "output_type": "stream",
     "text": [
      "{'토성', '천왕성', '해왕성', '목성', '화성', '금성', '수성', '지구'}\n",
      "{'토성', '천왕성', '해왕성', '목성', '화성', '수성', '지구'}\n",
      "{'토성', '해왕성', '목성', '화성', '수성', '지구'}\n",
      "set()\n"
     ]
    }
   ],
   "source": [
    "# Ex3\n",
    "\n",
    "s_planet = {'수성', '금성', '지구', '화성', '목성', '토성', '천왕성', '해왕성'}\n",
    "print(s_planet)\n",
    "\n",
    "# '금성' 을 삭제하세요\n",
    "# 위와 다른 함수를 사용해서 '천왕성'을 삭제하세요\n",
    "# 모든 항목을 지우세요\n",
    "\n",
    "s_planet.remove('금성')\n",
    "print(s_planet)\n",
    "\n",
    "s_planet.discard('천왕성')\n",
    "print(s_planet)\n",
    "\n",
    "s_planet.clear()\n",
    "print(s_planet)"
   ]
  },
  {
   "cell_type": "code",
   "execution_count": 65,
   "metadata": {},
   "outputs": [
    {
     "name": "stdout",
     "output_type": "stream",
     "text": [
      "{1, 2, 3, 4, 5, 6, 7, 8, 9}\n",
      "{1, 2, 3}\n",
      "{4, 5, 6}\n",
      "{4, 5, 6, 7, 8, 9}\n",
      "True\n"
     ]
    }
   ],
   "source": [
    "# Ex4\n",
    "\n",
    "A = {1, 2, 3, 4, 5, 6}\n",
    "B = {1, 2, 3, 7, 8, 9}\n",
    "\n",
    "# 합집합을 구하세요\n",
    "\n",
    "print(A | B)\n",
    "\n",
    "# 교집합을 구하세요\n",
    "\n",
    "print(A & B)\n",
    "\n",
    "# 차집합을 구하세요\n",
    "\n",
    "print(A - B)\n",
    "\n",
    "# 대칭차집합을 구하세요\n",
    "\n",
    "print(A ^ B)\n",
    "\n",
    "# 부분집합\n",
    "# {4, 5, 6}가 A의 부분집합인지 확인하세요\n",
    "# A가 {4, 5, 6}을 포함하는지 확인하세요\n",
    "\n",
    "print({4, 5, 6} <= A)\n"
   ]
  },
  {
   "cell_type": "code",
   "execution_count": null,
   "metadata": {},
   "outputs": [],
   "source": [
    "# Ex5\n",
    "\n",
    "s_float = {1.0, 3.0, 2.0, 10.0}\n",
    "print(s_float)\n",
    "print()\n",
    "\n",
    "# s_float의 길이를 구하세요\n",
    "# s_float를 올림차순 정렬하세요\n",
    "# s_float에 2.0이 포함되는지 확인하세요"
   ]
  },
  {
   "cell_type": "markdown",
   "metadata": {},
   "source": [
    "### Dictionary"
   ]
  },
  {
   "cell_type": "code",
   "execution_count": null,
   "metadata": {},
   "outputs": [],
   "source": [
    "# Ex1\n",
    "\n",
    "solar1 = ['태양', '수성', '금성', '지구', '화성', '목성', '토성', '천왕성', '해왕성']\n",
    "solar2 = ['Sun', 'Mercury', 'Venus', 'Earth', 'Mars', 'Jupiter', 'Saturn', 'Uranus', 'Neptune']\n",
    "solardict = {}\n",
    "\n",
    "# 아래와 같이 출력되도록 코딩하세요.\n",
    "# for문을 사용하세요.\n",
    "# \n",
    "# {'태양': 'Sun', '수성': 'Mercury', '금성': 'Venus', '지구': 'Earth', \n",
    "#  '화성': 'Mars', '목성': 'Jupiter', '토성': 'Saturn', '천왕성': 'Uranus', '해왕성': 'Neptune'}"
   ]
  },
  {
   "cell_type": "code",
   "execution_count": null,
   "metadata": {},
   "outputs": [],
   "source": [
    "names = {'Mary':10999, 'Sams':2111, 'Aimy':9778, 'Tom':20245, \n",
    "'Michale':27115, 'Bob':5887, 'Kelly':7855}\n",
    "\n",
    "# Aimy의 value를 10000으로 수정하세요"
   ]
  },
  {
   "cell_type": "code",
   "execution_count": null,
   "metadata": {},
   "outputs": [],
   "source": [
    "names = {'Mary':10999, 'Sams':2111, 'Aimy':9778, 'Tom':20245, \n",
    "'Michale':27115, 'Bob':5887, 'Kelly':7855}\n",
    "\n",
    "# 'Sams'를 삭제하세요\n",
    "# value 값들의 합을 구하세요\n",
    "# value 값들의 최대값을 구하세요\n",
    "# key값들을 출력하세요\n",
    "# value값들을 출력하세요\n",
    "# 모든 요소를 삭제하세요"
   ]
  },
  {
   "cell_type": "code",
   "execution_count": 72,
   "metadata": {},
   "outputs": [
    {
     "name": "stdout",
     "output_type": "stream",
     "text": [
      "이름을 입력하세요: Mary\n",
      "이름이 Mary인 출생아 수는 10999명 입니다.\n"
     ]
    }
   ],
   "source": [
    "names = {'Mary':10999, 'Sams':2111, 'Aimy':9778, 'Tom':20245, \n",
    "'Michale':27115, 'Bob':5887, 'Kelly':7855}\n",
    "\n",
    "# 이름을 입력받고, 이름의 값을 출력하도록 코딩하세요\n",
    "\n",
    "name = input('이름을 입력하세요: ')\n",
    "if name in names:\n",
    "    print('이름이 {}인 출생아 수는 {}명 입니다.'.format(name, names[name]))\n",
    "else:\n",
    "    print('자료에 {}인 이름이 존재하지 않습니다.'.format(name))"
   ]
  },
  {
   "cell_type": "code",
   "execution_count": 85,
   "metadata": {},
   "outputs": [
    {
     "name": "stdout",
     "output_type": "stream",
     "text": [
      "[('Aimy', 9778), ('Bob', 5887), ('Kelly', 7855), ('Mary', 10999), ('Michale', 27115), ('Sams', 2111), ('Tom', 20245)]\n",
      "[('Sams', 2111), ('Bob', 5887), ('Kelly', 7855), ('Aimy', 9778), ('Mary', 10999), ('Tom', 20245), ('Michale', 27115)]\n"
     ]
    }
   ],
   "source": [
    "names = {'Mary':10999, 'Sams':2111, 'Aimy':9778, 'Tom':20245, \n",
    "'Michale':27115, 'Bob':5887, 'Kelly':7855}\n",
    "\n",
    "# key를 기준으로 올림차순 정렬하세요\n",
    "\n",
    "print(sorted(names.items()))\n",
    "\n",
    "# value를 기준으로 정렬\n",
    "\n",
    "print(sorted(names.items(), key = lambda x:x[1]))"
   ]
  },
  {
   "cell_type": "code",
   "execution_count": 78,
   "metadata": {},
   "outputs": [
    {
     "name": "stdout",
     "output_type": "stream",
     "text": [
      "18\n",
      "singer\n",
      "{'name': '수지', 'age': 18, 'job': 'singer'}\n",
      "{'name': '수지', 'age': 18, 'job': 'singer', 'birth': '1994-07-07', 'manager': 'JYP'}\n"
     ]
    }
   ],
   "source": [
    "my_idol = {\"name\": \"쯔위\", \"age\": 18, \"job\": \"singer\"}\n",
    "\n",
    "# age의 값을 출력하시오\n",
    "\n",
    "print(my_idol['age'])\n",
    "\n",
    "# job의 값을 출력하시오\n",
    "\n",
    "print(my_idol['job'])\n",
    "\n",
    "# name의 값을 '수지'로 수정하시오\n",
    "\n",
    "my_idol['name'] = '수지'\n",
    "print(my_idol)\n",
    "\n",
    "# 'birth' 의 값을 '1994-07-07'로 추가하시오\n",
    "\n",
    "my_idol['birth'] = '1994-07-07'\n",
    "\n",
    "# 'manager'의 값을 'JYP'로 추가하시오\n",
    "\n",
    "my_idol['manager'] = 'JYP'\n",
    "\n",
    "print(my_idol)"
   ]
  },
  {
   "cell_type": "code",
   "execution_count": 96,
   "metadata": {},
   "outputs": [
    {
     "name": "stdout",
     "output_type": "stream",
     "text": [
      "{'job': 'singer', 'age': 18, 'name': '수지', 'birth': '1994-10-10'}\n",
      "1994-10-10\n",
      "{'job': 'singer', 'age': 18, 'name': '수지'}\n",
      "{'job': 'singer', 'name': '수지'}\n",
      "{'job': 'singer'}\n"
     ]
    }
   ],
   "source": [
    "my_idol = {'job': 'singer', 'age': 18, 'name': '수지', 'birth': '1994-10-10'}\n",
    "print(my_idol)\n",
    "\n",
    "# 'birth' 항목 가져오고 삭제하기\n",
    "\n",
    "print(my_idol['birth'])\n",
    "del my_idol['birth']\n",
    "print(my_idol)\n",
    "\n",
    "# 'age' 항목 삭제하기\n",
    "\n",
    "del my_idol['age']\n",
    "print(my_idol)\n",
    "\n",
    "# 임의의 항목 가져오면서 삭제하기\n",
    "\n",
    "my_idol.popitem()\n",
    "print(my_idol)\n",
    "\n",
    "# 사전 비우기\n",
    "\n",
    "my_idol.clear()\n",
    "\n",
    "# my_idol 사전 삭제하기\n",
    "\n",
    "del my_idol"
   ]
  },
  {
   "cell_type": "code",
   "execution_count": null,
   "metadata": {},
   "outputs": [],
   "source": []
  }
 ],
 "metadata": {
  "kernelspec": {
   "display_name": "Python 3",
   "language": "python",
   "name": "python3"
  },
  "language_info": {
   "codemirror_mode": {
    "name": "ipython",
    "version": 3
   },
   "file_extension": ".py",
   "mimetype": "text/x-python",
   "name": "python",
   "nbconvert_exporter": "python",
   "pygments_lexer": "ipython3",
   "version": "3.6.5"
  }
 },
 "nbformat": 4,
 "nbformat_minor": 2
}
