{
 "cells": [
  {
   "cell_type": "markdown",
   "metadata": {},
   "source": [
    "## Python List Test"
   ]
  },
  {
   "cell_type": "markdown",
   "metadata": {},
   "source": [
    "### 20180723\n",
    "### Sungjae Lee"
   ]
  },
  {
   "cell_type": "code",
   "execution_count": 9,
   "metadata": {},
   "outputs": [
    {
     "name": "stdout",
     "output_type": "stream",
     "text": [
      "[0, 1, 2, 3, 4, 5, 6, 7, 8, 9]\n",
      "[10, 11, 12, 13, 14, 15, 16, 17, 18, 19]\n"
     ]
    }
   ],
   "source": [
    "# Ex1\n",
    "\n",
    "# range() 함수를 사용.\n",
    "# [0 ,1 , 2, 3, 4, 5, 6, 7, 8, 9]가 출력됨\n",
    "# [10, 11, 12, 13, 14, 15, 16, 17, 18, 19]가 출력됨\n",
    "\n",
    "print(list(range(0, 10)))\n",
    "print(list(range(10, 20)))"
   ]
  },
  {
   "cell_type": "code",
   "execution_count": 16,
   "metadata": {},
   "outputs": [
    {
     "name": "stdout",
     "output_type": "stream",
     "text": [
      "2\n",
      "b\n",
      "5\n",
      "나\n",
      "[1, 'a', 'c', '가']\n"
     ]
    }
   ],
   "source": [
    "# Ex2\n",
    "\n",
    "listdata = [1, 2, 'a', 'b', 'c', [4, 5, 6], '가', '나']\n",
    "# 2가 출력됨\n",
    "# ‘b’가 출력됨\n",
    "# 5가 출력됨\n",
    "# 맨 마지막 원소가 추출됨\n",
    "# 홀수 번 자리 요소만 추출\n",
    "    \n",
    "print(listdata[1])\n",
    "print(listdata[3])\n",
    "print(listdata[5][1])\n",
    "print(listdata[-1])\n",
    "print(listdata[::2])"
   ]
  },
  {
   "cell_type": "code",
   "execution_count": 20,
   "metadata": {},
   "outputs": [
    {
     "name": "stdout",
     "output_type": "stream",
     "text": [
      "행성의 이름을 입력하세요: 수성\n",
      "수성은 태양계에서 2번째에 위치하고 있습니다.\n"
     ]
    }
   ],
   "source": [
    "# Ex3\n",
    "\n",
    "solarsys = ['태양', '수성', '금성', '지구', '화성', '목성', '지구']\n",
    "solarsys1 = ['토성', '천왕성', '해왕성']\n",
    "\n",
    "# 행성의 이름을 입력받는다\n",
    "# format()함수를 이용해서\n",
    "# \"__은 태양계에서 __번째 위치하고 있습니다.\" 를 출력\n",
    "\n",
    "solarsys_name = input('행성의 이름을 입력하세요: ')\n",
    "solarsys_nth = solarsys.index(solarsys_name) + 1\n",
    "print('{}은 태양계에서 {}번째에 위치하고 있습니다.'.format(solarsys_name, solarsys_nth))"
   ]
  },
  {
   "cell_type": "code",
   "execution_count": 24,
   "metadata": {},
   "outputs": [],
   "source": [
    "# Ex4\n",
    "\n",
    "solarsys = ['태양', '수성', '금성', '지구', '화성', '목성', '지구']\n",
    "solarsys1 = ['토성', '천왕성', '해왕성']\n",
    "planet = '지구'"
   ]
  },
  {
   "cell_type": "code",
   "execution_count": 25,
   "metadata": {},
   "outputs": [
    {
     "name": "stdout",
     "output_type": "stream",
     "text": [
      "['수성', '금성', '지구']\n"
     ]
    }
   ],
   "source": [
    "# 1. solarsys 에서 ['수성', '금성', '지구'] 를 출력\n",
    "\n",
    "print(solarsys[1:4])"
   ]
  },
  {
   "cell_type": "code",
   "execution_count": 26,
   "metadata": {},
   "outputs": [
    {
     "name": "stdout",
     "output_type": "stream",
     "text": [
      "3\n"
     ]
    }
   ],
   "source": [
    "# 2. solarsys에서 '지구'의 위치값 출력\n",
    "\n",
    "print(solarsys.index('지구'))"
   ]
  },
  {
   "cell_type": "code",
   "execution_count": 27,
   "metadata": {},
   "outputs": [
    {
     "name": "stdout",
     "output_type": "stream",
     "text": [
      "['태양', '수성', '금성', '지구', '해왕성', '목성', '지구']\n"
     ]
    }
   ],
   "source": [
    "# 3. solarsys에서 '화성'을 '해왕성'으로 수정\n",
    "\n",
    "solarsys[solarsys.index('화성')] = '해왕성'\n",
    "print(solarsys)"
   ]
  },
  {
   "cell_type": "code",
   "execution_count": 28,
   "metadata": {},
   "outputs": [
    {
     "name": "stdout",
     "output_type": "stream",
     "text": [
      "['태양', '명왕성', '수성', '금성', '지구', '해왕성', '목성', '지구']\n"
     ]
    }
   ],
   "source": [
    "# 4. solarsys에서 '수성' 자리에 '명왕성'을 삽입\n",
    "\n",
    "solarsys.insert(solarsys.index('수성'), '명왕성')\n",
    "print(solarsys)"
   ]
  },
  {
   "cell_type": "code",
   "execution_count": 29,
   "metadata": {},
   "outputs": [
    {
     "name": "stdout",
     "output_type": "stream",
     "text": [
      "['태양', '명왕성', '수성', '금성', '지구', '해왕성', '목성', '지구', '토성']\n"
     ]
    }
   ],
   "source": [
    "# 5. solarsys에 '토성'을 맨 끝에 첨가\n",
    "\n",
    "solarsys.append('토성')\n",
    "print(solarsys)"
   ]
  },
  {
   "cell_type": "code",
   "execution_count": 30,
   "metadata": {},
   "outputs": [
    {
     "name": "stdout",
     "output_type": "stream",
     "text": [
      "['태양', '명왕성', '수성', '금성', '지구', '해왕성', '목성', '지구']\n"
     ]
    }
   ],
   "source": [
    "# 6. solarsys에 맨 끝 요소를 제거하고 리턴\n",
    "\n",
    "solarsys.pop()\n",
    "print(solarsys)"
   ]
  },
  {
   "cell_type": "code",
   "execution_count": 31,
   "metadata": {},
   "outputs": [
    {
     "name": "stdout",
     "output_type": "stream",
     "text": [
      "['태양', '명왕성', '수성', '지구', '해왕성', '목성', '지구']\n"
     ]
    }
   ],
   "source": [
    "# 7. solarsys에서 '금성'을 제거\n",
    "\n",
    "solarsys.remove('금성')\n",
    "print(solarsys)"
   ]
  },
  {
   "cell_type": "code",
   "execution_count": 32,
   "metadata": {},
   "outputs": [
    {
     "name": "stdout",
     "output_type": "stream",
     "text": [
      "['태양', '해왕성', '목성', '지구']\n"
     ]
    }
   ],
   "source": [
    "# 8. solarsys에서 1번째에서 3번째까지 삭제\n",
    "\n",
    "del solarsys[1:4]\n",
    "print(solarsys)"
   ]
  },
  {
   "cell_type": "code",
   "execution_count": 33,
   "metadata": {},
   "outputs": [
    {
     "name": "stdout",
     "output_type": "stream",
     "text": [
      "['태양', '해왕성', '지구']\n"
     ]
    }
   ],
   "source": [
    "# 9. solarsys에서 인덱스값 2번 요소를 삭제\n",
    "\n",
    "del solarsys[2]\n",
    "print(solarsys)"
   ]
  },
  {
   "cell_type": "code",
   "execution_count": 34,
   "metadata": {},
   "outputs": [
    {
     "name": "stdout",
     "output_type": "stream",
     "text": [
      "['태양', '해왕성', '지구', '토성', '천왕성', '해왕성']\n"
     ]
    }
   ],
   "source": [
    "# 10.solarsys와 solarsys1을 합하시요.\n",
    "\n",
    "print(solarsys + solarsys1)"
   ]
  },
  {
   "cell_type": "code",
   "execution_count": 35,
   "metadata": {},
   "outputs": [
    {
     "name": "stdout",
     "output_type": "stream",
     "text": [
      "['지구', '태양', '해왕성']\n"
     ]
    }
   ],
   "source": [
    "# 11. solarsys를 오름차순으로 정력하세요.\n",
    "\n",
    "solarsys.sort()\n",
    "print(solarsys)"
   ]
  },
  {
   "cell_type": "code",
   "execution_count": 36,
   "metadata": {},
   "outputs": [
    {
     "name": "stdout",
     "output_type": "stream",
     "text": [
      "['해왕성', '태양', '지구']\n"
     ]
    }
   ],
   "source": [
    "# 12. solarsys를 내림차순으로 정렬하세요.\n",
    "\n",
    "solarsys.sort(reverse = True)\n",
    "print(solarsys)"
   ]
  },
  {
   "cell_type": "code",
   "execution_count": 45,
   "metadata": {},
   "outputs": [
    {
     "name": "stdout",
     "output_type": "stream",
     "text": [
      "['해왕성', '태양', '지구']\n",
      "['지구', '태양', '해왕성']\n"
     ]
    }
   ],
   "source": [
    "# 13. solarsys의 원소의 순서를 바꾸세요.\n",
    "\n",
    "print(solarsys)\n",
    "solarsys.reverse()\n",
    "print(solarsys)"
   ]
  },
  {
   "cell_type": "code",
   "execution_count": 38,
   "metadata": {},
   "outputs": [
    {
     "name": "stdout",
     "output_type": "stream",
     "text": [
      "False\n"
     ]
    }
   ],
   "source": [
    "# 14. solarsys에 '만리장성'이 있는지 확인하세요.\n",
    "\n",
    "print('만리장성' in solarsys)"
   ]
  },
  {
   "cell_type": "code",
   "execution_count": 39,
   "metadata": {},
   "outputs": [
    {
     "name": "stdout",
     "output_type": "stream",
     "text": [
      "['지구', '태양', '해왕성', '지구', '태양', '해왕성', '지구', '태양', '해왕성']\n"
     ]
    }
   ],
   "source": [
    "# 15. solarsys를 3번 반복하세요.\n",
    "\n",
    "print(solarsys*3)"
   ]
  },
  {
   "cell_type": "code",
   "execution_count": 40,
   "metadata": {},
   "outputs": [
    {
     "name": "stdout",
     "output_type": "stream",
     "text": [
      "3\n"
     ]
    }
   ],
   "source": [
    "# 16. solarsys의 길이를 리턴하세요.\n",
    "\n",
    "print(len(solarsys))"
   ]
  },
  {
   "cell_type": "code",
   "execution_count": 41,
   "metadata": {},
   "outputs": [
    {
     "name": "stdout",
     "output_type": "stream",
     "text": [
      "1\n"
     ]
    }
   ],
   "source": [
    "# 17. solarsys에서 '지구'의 갯수를 출력하세요.\n",
    "\n",
    "print(solarsys.count('지구'))"
   ]
  },
  {
   "cell_type": "code",
   "execution_count": 46,
   "metadata": {},
   "outputs": [
    {
     "name": "stdout",
     "output_type": "stream",
     "text": [
      "['지구', '태양', '해왕성']\n",
      "['해왕성', '태양', '지구']\n"
     ]
    }
   ],
   "source": [
    "# 18. solarsys의 요소 순서을 역순으로 하시오.\n",
    "print(solarsys)\n",
    "solarsys.reverse()\n",
    "print(solarsys)"
   ]
  },
  {
   "cell_type": "code",
   "execution_count": 47,
   "metadata": {},
   "outputs": [
    {
     "name": "stdout",
     "output_type": "stream",
     "text": [
      "[]\n"
     ]
    }
   ],
   "source": [
    "# 19. solarsys의 모든 원소를 지우세요.\n",
    "\n",
    "solarsys.clear()\n",
    "print(solarsys)"
   ]
  },
  {
   "cell_type": "code",
   "execution_count": 48,
   "metadata": {},
   "outputs": [],
   "source": [
    "# 20. solarsys 리스트를 삭제하세요.\n",
    "\n",
    "del solarsys"
   ]
  }
 ],
 "metadata": {
  "kernelspec": {
   "display_name": "Python 3",
   "language": "python",
   "name": "python3"
  },
  "language_info": {
   "codemirror_mode": {
    "name": "ipython",
    "version": 3
   },
   "file_extension": ".py",
   "mimetype": "text/x-python",
   "name": "python",
   "nbconvert_exporter": "python",
   "pygments_lexer": "ipython3",
   "version": "3.6.5"
  }
 },
 "nbformat": 4,
 "nbformat_minor": 2
}
