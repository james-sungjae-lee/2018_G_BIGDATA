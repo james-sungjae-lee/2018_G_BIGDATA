{
 "cells": [
  {
   "cell_type": "markdown",
   "metadata": {},
   "source": [
    "# Python String Test"
   ]
  },
  {
   "cell_type": "markdown",
   "metadata": {},
   "source": [
    "## 20180723 \n",
    "## Sungjae Lee"
   ]
  },
  {
   "cell_type": "code",
   "execution_count": 50,
   "metadata": {},
   "outputs": [
    {
     "name": "stdout",
     "output_type": "stream",
     "text": [
      "e\n",
      "라\n"
     ]
    }
   ],
   "source": [
    "# Ex1\n",
    "\n",
    "txt1 = 'A tale that was not right'\n",
    "txt2 = '이 또한 지나가리라.'\n",
    "# ‘e’가 출력됨\n",
    "# ‘라’가 출력됨\n",
    "\n",
    "print(txt1[5])\n",
    "print(txt2[-2])"
   ]
  },
  {
   "cell_type": "code",
   "execution_count": 51,
   "metadata": {},
   "outputs": [
    {
     "name": "stdout",
     "output_type": "stream",
     "text": [
      "ale \n",
      "A tale\n",
      "가리라.\n"
     ]
    }
   ],
   "source": [
    "# Ex2\n",
    "\n",
    "txt1 = 'A tale that was not right'\n",
    "txt2 = '이 또한 지나가리라.'\n",
    "# ‘ale ’이 출력됨\n",
    "# ‘A tale’ 이 출력됨\n",
    "# ‘가리라.’가 출력됨\n",
    "\n",
    "print(txt1[3:7])\n",
    "print(txt1[:6])\n",
    "print(txt2[-4:])"
   ]
  },
  {
   "cell_type": "code",
   "execution_count": 52,
   "metadata": {},
   "outputs": [
    {
     "name": "stdout",
     "output_type": "stream",
     "text": [
      "abcdefghijk\n",
      "kjihgfedcba\n"
     ]
    }
   ],
   "source": [
    "# Ex3\n",
    "\n",
    "txt = 'aAbBcCdDeEfFgGhHiIjJkK'\n",
    "ret = txt[::2]\n",
    "print(ret)       \n",
    "# ‘abcdefghijk’ 가 출력됨\n",
    "# txt 의 홀수번째 문자만 출력하는 것. step = 2 인 문자열을 ret 에 저장한다.\n",
    "\n",
    "txt = 'abcdefghijk'\n",
    "ret = txt[::-1]\n",
    "ret = txt[::-1]\n",
    "print(ret)\n",
    "# ‘kjihgfedcba’ 가 출력됨\n",
    "# 역순으로 step = 1 인 문자열을 ret 에 저장한다."
   ]
  },
  {
   "cell_type": "code",
   "execution_count": 44,
   "metadata": {},
   "outputs": [
    {
     "name": "stdout",
     "output_type": "stream",
     "text": [
      "저장할 파일 이름을 입력하세요:asdf\n",
      "당신이 저장한 파일은 <asdf>.jpg 입니다\n"
     ]
    }
   ],
   "source": [
    "# Ex4\n",
    "\n",
    "name = input('저장할 파일 이름을 입력하세요:')\n",
    "print('당신이 저장한 파일은 <{}>.jpg 입니다'.format(name))"
   ]
  },
  {
   "cell_type": "code",
   "execution_count": 37,
   "metadata": {},
   "outputs": [
    {
     "name": "stdout",
     "output_type": "stream",
     "text": [
      "임의의 문장을 입력하세요:abc_def_ghi\n",
      "당신이 입력한 문장에는 a가 있습니다\n"
     ]
    }
   ],
   "source": [
    "# Ex5\n",
    "\n",
    "my_string = input('임의의 문장을 입력하세요:')\n",
    "if 'a' in my_string:\n",
    "    string_check = '있'\n",
    "else:\n",
    "    string_check = '없'\n",
    "print('당신이 입력한 문장에는 a가 {}습니다'.format(string_check))"
   ]
  },
  {
   "cell_type": "code",
   "execution_count": 27,
   "metadata": {},
   "outputs": [
    {
     "name": "stdout",
     "output_type": "stream",
     "text": [
      "임의의 문장을 입력하세요:가나다\n",
      "당신이 입력한 문장의 길이는 <3> 입니다\n"
     ]
    }
   ],
   "source": [
    "# Ex6\n",
    "\n",
    "my_string2 = input('임의의 문장을 입력하세요:')\n",
    "print('당신이 입력한 문장의 길이는 <{}> 입니다'.format(len(my_string2)))"
   ]
  },
  {
   "cell_type": "code",
   "execution_count": 53,
   "metadata": {},
   "outputs": [
    {
     "name": "stdout",
     "output_type": "stream",
     "text": [
      "a lot of things occur each day.\n",
      "A LOT OF THINGS OCCUR EACH DAY.\n"
     ]
    }
   ],
   "source": [
    "# Ex7\n",
    "\n",
    "txt = 'A lot of Things occur each day.'\n",
    "# ‘A LOT OF THINGS OCCUR EACH DAY.’가 출력됨\n",
    "# ‘a lot of things occur each day.’가 출력됨\n",
    "\n",
    "print(txt.lower())\n",
    "print(txt.upper())"
   ]
  },
  {
   "cell_type": "code",
   "execution_count": 54,
   "metadata": {},
   "outputs": [
    {
     "name": "stdout",
     "output_type": "stream",
     "text": [
      "<   양쪽에 공백이 있는 문자열입니다.   >\n",
      "<   양쪽에 공백이 있는 문자열입니다.>\n",
      "<양쪽에 공백이 있는 문자열입니다.   >\n",
      "<양쪽에 공백이 있는 문자열입니다.>\n"
     ]
    }
   ],
   "source": [
    "# Ex8\n",
    "\n",
    "txt = '   양쪽에 공백이 있는 문자열입니다.   '\n",
    "\n",
    "print('<'+txt+'>')\n",
    "print('<'+txt.rstrip()+'>')\n",
    "print('<'+txt.lstrip()+'>')\n",
    "print('<'+txt.strip()+'>')"
   ]
  },
  {
   "cell_type": "code",
   "execution_count": 79,
   "metadata": {},
   "outputs": [
    {
     "name": "stdout",
     "output_type": "stream",
     "text": [
      "3\n",
      "2\n",
      "8\n"
     ]
    }
   ],
   "source": [
    "# Ex9\n",
    "\n",
    "txt = 'A lot of things occur each day, every day.'\n",
    "#문자 'o', 'day', ' '의 갯수 출력\n",
    "\n",
    "print(txt.count('o'))\n",
    "print(txt.count('day'))\n",
    "print(txt.count(' '))"
   ]
  },
  {
   "cell_type": "code",
   "execution_count": 80,
   "metadata": {},
   "outputs": [
    {
     "name": "stdout",
     "output_type": "stream",
     "text": [
      "22\n",
      "27\n",
      "38\n",
      "[22, 32, 34]\n"
     ]
    }
   ],
   "source": [
    "# Ex10\n",
    "\n",
    "txt = 'A lot of things occur each day, every day.'\n",
    "# 문자 'e', 'day', 30번째 이후의 'day'의 인덱스 값 출력\n",
    "\n",
    "print(txt.find('e'))\n",
    "print(txt.find('day'))\n",
    "print(txt.find('day', 30))\n",
    "\n",
    "# 추가사항. 모든 'e' 문자의 인덱스 출력\n",
    "import re\n",
    "print([x.start() for x in re.finditer('e', txt)])"
   ]
  },
  {
   "cell_type": "code",
   "execution_count": 81,
   "metadata": {},
   "outputs": [
    {
     "name": "stdout",
     "output_type": "stream",
     "text": [
      "www.naver.com\n",
      "name -> 홍길동\n",
      "age -> 17\n",
      "sex -> 남자\n",
      "nation -> 조선\n"
     ]
    }
   ],
   "source": [
    "# Ex11\n",
    "\n",
    "url = 'http://www.naver.com/news/today=20160831'\n",
    "log = 'name:홍길동 age:17 sex:남자 nation:조선'\n",
    "\n",
    "ret1 = url.split('/')\n",
    "print(ret1[2])\n",
    "\n",
    "ret2 = log.split()\n",
    "for data in ret2:\n",
    "   d1, d2 = data.split(':')\n",
    "   print('%s -> %s' %(d1, d2))"
   ]
  },
  {
   "cell_type": "code",
   "execution_count": 82,
   "metadata": {},
   "outputs": [
    {
     "name": "stdout",
     "output_type": "stream",
     "text": [
      "2016/08/26 10:12:11;200;OK;이 또한 지나가리라\n"
     ]
    }
   ],
   "source": [
    "# Ex12\n",
    "\n",
    "loglist = ['2016/08/26 10:12:11', '200', 'OK', '이 또한 지나가리라']\n",
    "bond = ';'\n",
    "\n",
    "print(bond.join(loglist))\n"
   ]
  },
  {
   "cell_type": "code",
   "execution_count": 83,
   "metadata": {},
   "outputs": [
    {
     "name": "stdout",
     "output_type": "stream",
     "text": [
      "My password is 0234\n",
      "My password is python234\n",
      "항상 많은 일들이 일어납니다.\n",
      "항상 많은 사건들이 사건어납니다.\n"
     ]
    }
   ],
   "source": [
    "# Ex13\n",
    "\n",
    "txt = 'My password is 1234'\n",
    "ret1 = txt.replace('1', '0')\n",
    "ret2 = txt.replace('1', 'python')\n",
    "\n",
    "print(ret1)   # ‘My Password is 0234’가 출력됨\n",
    "print(ret2)   # ‘My Password is python234’가 출력됨\n",
    "\n",
    "txt = '매일 많은 일들이 일어납니다.'\n",
    "ret3 = txt.replace('매일', '항상')\n",
    "ret4 = ret3.replace('일', '사건')\n",
    "\n",
    "print(ret3)\n",
    "print(ret4)"
   ]
  },
  {
   "cell_type": "code",
   "execution_count": null,
   "metadata": {},
   "outputs": [],
   "source": [
    "# Ex14\n",
    "\n",
    "strdata = input('정렬할 문자열을 입력하세요: ')\n",
    "ret1 = sorted(strdata)\n",
    "ret2 = sorted(strdata, reverse = True)\n",
    "\n",
    "print(ret1)\n",
    "print(ret2)\n",
    "\n",
    "ret1 = ''.join(ret1)\n",
    "ret2 = ''.join(ret2)\n",
    "\n",
    "print(ret1)\n",
    "print(ret2)\n"
   ]
  }
 ],
 "metadata": {
  "kernelspec": {
   "display_name": "Python 3",
   "language": "python",
   "name": "python3"
  },
  "language_info": {
   "codemirror_mode": {
    "name": "ipython",
    "version": 3
   },
   "file_extension": ".py",
   "mimetype": "text/x-python",
   "name": "python",
   "nbconvert_exporter": "python",
   "pygments_lexer": "ipython3",
   "version": "3.6.5"
  }
 },
 "nbformat": 4,
 "nbformat_minor": 2
}
