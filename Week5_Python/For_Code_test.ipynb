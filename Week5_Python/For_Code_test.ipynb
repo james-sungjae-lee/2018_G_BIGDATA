{
 "cells": [
  {
   "cell_type": "markdown",
   "metadata": {},
   "source": [
    "## For_Sample_Code"
   ]
  },
  {
   "cell_type": "code",
   "execution_count": 4,
   "metadata": {},
   "outputs": [
    {
     "name": "stdout",
     "output_type": "stream",
     "text": [
      "Enter grade: 4\n",
      "Enter grade: 5\n",
      "Enter grade: 1\n",
      "Enter grade: 4\n",
      "Enter grade: 7\n",
      "Class average is  4.2\n"
     ]
    }
   ],
   "source": [
    "total = 0\n",
    "count = 0\n",
    "\n",
    "\n",
    "\n",
    "# 5명 성적 평균 출력\n",
    "# 5명 성적 순차적으로 입력받고 평균 출력\n",
    "print (\"Class average is \", avrg)"
   ]
  },
  {
   "cell_type": "code",
   "execution_count": 6,
   "metadata": {},
   "outputs": [
    {
     "name": "stdout",
     "output_type": "stream",
     "text": [
      "Enter number: 20\n",
      "20! is 2432902008176640000\n"
     ]
    }
   ],
   "source": [
    "# 팩토리얼\n",
    "num = int(input(\"Enter number: \"))\n",
    "\n",
    "\n",
    "print (str(num) + \"! is \" + str(result))"
   ]
  },
  {
   "cell_type": "code",
   "execution_count": 1,
   "metadata": {},
   "outputs": [
    {
     "name": "stdout",
     "output_type": "stream",
     "text": [
      "1\n",
      "3\n",
      "5\n"
     ]
    }
   ],
   "source": [
    "scope = [1, 2, 3, 4, 5, 6, 7]\n",
    "\n",
    "\n",
    "# 6보다 작은 범위에서 break와 continue를 사용해서 홀수만 출력"
   ]
  },
  {
   "cell_type": "code",
   "execution_count": 5,
   "metadata": {},
   "outputs": [
    {
     "name": "stdout",
     "output_type": "stream",
     "text": [
      "---> 10\n",
      "n = 10 : nSum = 55\n"
     ]
    }
   ],
   "source": [
    "n = int(input('---> '))\n",
    "\n",
    "# 받은 수의 0부터 숫자까지 누적합"
   ]
  },
  {
   "cell_type": "code",
   "execution_count": 7,
   "metadata": {},
   "outputs": [
    {
     "name": "stdout",
     "output_type": "stream",
     "text": [
      "---> 10\n",
      "n = 10 : oddSum=25, evenSum = 30\n"
     ]
    }
   ],
   "source": [
    "n = int(input('---> '))\n",
    "\n",
    "\n",
    "# 입력받은 수까지 홀수합, 짝수합"
   ]
  },
  {
   "cell_type": "code",
   "execution_count": 10,
   "metadata": {},
   "outputs": [
    {
     "name": "stdout",
     "output_type": "stream",
     "text": [
      "Min = 60 , nMax = 100\n"
     ]
    }
   ],
   "source": [
    "L = [ 70, 100, 80, 60, 90]\n",
    "nMin = nMax = L[0]\n",
    "# nMin = min(L)\n",
    "# nMax = max(L)\n",
    "\n",
    "\n",
    "# 리스트에서 for문을 사용해서 최대값, 최소값 구하기"
   ]
  },
  {
   "cell_type": "code",
   "execution_count": 13,
   "metadata": {},
   "outputs": [
    {
     "name": "stdout",
     "output_type": "stream",
     "text": [
      " 1x1=  1,  1x2=  2,  1x3=  3,  1x4=  4,  1x5=  5,  1x6=  6,  1x7=  7,  1x8=  8,  1x9=  9, \n",
      " 2x1=  2,  2x2=  4,  2x3=  6,  2x4=  8,  2x5= 10,  2x6= 12,  2x7= 14,  2x8= 16,  2x9= 18, \n",
      " 3x1=  3,  3x2=  6,  3x3=  9,  3x4= 12,  3x5= 15,  3x6= 18,  3x7= 21,  3x8= 24,  3x9= 27, \n",
      " 4x1=  4,  4x2=  8,  4x3= 12,  4x4= 16,  4x5= 20,  4x6= 24,  4x7= 28,  4x8= 32,  4x9= 36, \n",
      " 5x1=  5,  5x2= 10,  5x3= 15,  5x4= 20,  5x5= 25,  5x6= 30,  5x7= 35,  5x8= 40,  5x9= 45, \n",
      " 6x1=  6,  6x2= 12,  6x3= 18,  6x4= 24,  6x5= 30,  6x6= 36,  6x7= 42,  6x8= 48,  6x9= 54, \n",
      " 7x1=  7,  7x2= 14,  7x3= 21,  7x4= 28,  7x5= 35,  7x6= 42,  7x7= 49,  7x8= 56,  7x9= 63, \n",
      " 8x1=  8,  8x2= 16,  8x3= 24,  8x4= 32,  8x5= 40,  8x6= 48,  8x7= 56,  8x8= 64,  8x9= 72, \n",
      " 9x1=  9,  9x2= 18,  9x3= 27,  9x4= 36,  9x5= 45,  9x6= 54,  9x7= 63,  9x8= 72,  9x9= 81, \n"
     ]
    }
   ],
   "source": [
    "for i in range(1, 10):\n",
    "    \n",
    "    \n",
    "# 구구단 출력"
   ]
  },
  {
   "cell_type": "code",
   "execution_count": 23,
   "metadata": {},
   "outputs": [
    {
     "name": "stdout",
     "output_type": "stream",
     "text": [
      "양의 정수---> 8\n",
      "8은 소수가 아니다.\n"
     ]
    }
   ],
   "source": [
    "n = int(input('양의 정수---> '))\n",
    "\n",
    "\n",
    "# while문을 이용해서 소수인지 판별하기"
   ]
  },
  {
   "cell_type": "code",
   "execution_count": 5,
   "metadata": {},
   "outputs": [
    {
     "name": "stdout",
     "output_type": "stream",
     "text": [
      "\n",
      "\n",
      "*\n",
      "\n",
      "**\n",
      "\n",
      "***\n",
      "\n",
      "****\n",
      "\n",
      "*****\n",
      "\n",
      "******\n",
      "\n",
      "*******\n",
      "\n",
      "********\n",
      "\n",
      "*********\n",
      "\n"
     ]
    }
   ],
   "source": [
    "for i in range(10):\n",
    " "
   ]
  },
  {
   "cell_type": "code",
   "execution_count": 7,
   "metadata": {},
   "outputs": [
    {
     "name": "stdout",
     "output_type": "stream",
     "text": [
      " **********\n",
      "\n",
      "  *********\n",
      "\n",
      "   ********\n",
      "\n",
      "    *******\n",
      "\n",
      "     ******\n",
      "\n",
      "      *****\n",
      "\n",
      "       ****\n",
      "\n",
      "        ***\n",
      "\n",
      "         **\n",
      "\n",
      "          *\n",
      "\n"
     ]
    }
   ],
   "source": [
    "for i in range(10):\n"
   ]
  },
  {
   "cell_type": "code",
   "execution_count": 1,
   "metadata": {},
   "outputs": [
    {
     "name": "stdout",
     "output_type": "stream",
     "text": [
      "8\n"
     ]
    }
   ],
   "source": [
    "cont = 0\n",
    "\n",
    "# 'computational thinking'에서 모음의 갯수 출력\n"
   ]
  },
  {
   "cell_type": "code",
   "execution_count": null,
   "metadata": {},
   "outputs": [],
   "source": []
  }
 ],
 "metadata": {
  "kernelspec": {
   "display_name": "Python 3",
   "language": "python",
   "name": "python3"
  },
  "language_info": {
   "codemirror_mode": {
    "name": "ipython",
    "version": 3
   },
   "file_extension": ".py",
   "mimetype": "text/x-python",
   "name": "python",
   "nbconvert_exporter": "python",
   "pygments_lexer": "ipython3",
   "version": "3.6.4"
  }
 },
 "nbformat": 4,
 "nbformat_minor": 2
}
