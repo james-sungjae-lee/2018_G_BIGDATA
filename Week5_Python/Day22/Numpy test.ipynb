{
 "cells": [
  {
   "cell_type": "markdown",
   "metadata": {},
   "source": [
    "## Numpy\n",
    "## 20180724\n",
    "## Sungjae Lee"
   ]
  },
  {
   "cell_type": "markdown",
   "metadata": {},
   "source": [
    "## 1. Array"
   ]
  },
  {
   "cell_type": "code",
   "execution_count": 11,
   "metadata": {},
   "outputs": [
    {
     "name": "stdout",
     "output_type": "stream",
     "text": [
      "<class 'numpy.ndarray'>\n",
      "<class 'numpy.float64'>\n",
      "float64\n",
      "(4,)\n"
     ]
    }
   ],
   "source": [
    "import numpy as np\n",
    "\n",
    "test_array = np.array([1, 4, 5, 8], float)\n",
    "test_array\n",
    "\n",
    "print(type(test_array))\n",
    "print(type(test_array[3]))\n",
    "\n",
    "# array 의 데이터 타입 반환\n",
    "print(test_array.dtype)\n",
    "\n",
    "# array 의 형태 반환\n",
    "print(test_array.shape)\n",
    "\n",
    "# dynamic typing not supported in numpy!"
   ]
  },
  {
   "cell_type": "code",
   "execution_count": 21,
   "metadata": {},
   "outputs": [
    {
     "name": "stdout",
     "output_type": "stream",
     "text": [
      "[1. 4. 5. 8.]\n",
      "<class 'numpy.float64'>\n"
     ]
    }
   ],
   "source": [
    "test_array = np.array([1, 4, 5, '8'], float)\n",
    "\n",
    "print(test_array)\n",
    "print(type(test_array[3]))\n",
    "\n",
    "# numpy array 는 하나의 데이터 타입만 가진다. '8'은 문자가 아닌 숫자로 자동 변환되어 저장된다."
   ]
  },
  {
   "cell_type": "markdown",
   "metadata": {},
   "source": [
    "## 2. Matrix & Tensor"
   ]
  },
  {
   "cell_type": "code",
   "execution_count": 34,
   "metadata": {
    "scrolled": true
   },
   "outputs": [
    {
     "name": "stdout",
     "output_type": "stream",
     "text": [
      "3\n",
      "(3, 2, 2)\n",
      "(2, 4)\n",
      "[1 2 5 8 1 2 5 8]\n",
      "[[1 2]\n",
      " [5 8]\n",
      " [1 2]\n",
      " [5 8]]\n"
     ]
    }
   ],
   "source": [
    "matrix = [[1, 2, 5, 8], [1, 2, 5, 8]]\n",
    "tensor = [[[1, 2],[1, 2]], [[1, 2],[1, 2]], [[1, 2],[1, 2]]]\n",
    "\n",
    "# ndim = number of dimension\n",
    "print(np.array(tensor, int).ndim)\n",
    "print(np.array(tensor, int).shape)\n",
    "\n",
    "# reshape : 형태를 변환\n",
    "print(np.array(matrix).shape)\n",
    "print(np.array(matrix).reshape(8,))\n",
    "\n",
    "# 행에 -1 을 작성하면, 나머지에 따라 자동적으로 작성된다.\n",
    "print(np.array(matrix).reshape(-1, 2))"
   ]
  }
 ],
 "metadata": {
  "kernelspec": {
   "display_name": "Python 3",
   "language": "python",
   "name": "python3"
  },
  "language_info": {
   "codemirror_mode": {
    "name": "ipython",
    "version": 3
   },
   "file_extension": ".py",
   "mimetype": "text/x-python",
   "name": "python",
   "nbconvert_exporter": "python",
   "pygments_lexer": "ipython3",
   "version": "3.6.5"
  }
 },
 "nbformat": 4,
 "nbformat_minor": 2
}
