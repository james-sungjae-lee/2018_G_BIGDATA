{
 "cells": [
  {
   "cell_type": "markdown",
   "metadata": {},
   "source": [
    "## Function\n",
    "## 20180724\n",
    "## Sungjae Lee"
   ]
  },
  {
   "cell_type": "code",
   "execution_count": 48,
   "metadata": {},
   "outputs": [
    {
     "name": "stdout",
     "output_type": "stream",
     "text": [
      "25\n",
      "대한민국~만세!!\n"
     ]
    }
   ],
   "source": [
    "# Ex1\n",
    "\n",
    "def add_number(num1, num2):\n",
    "    return num1 + num2\n",
    " \n",
    "def add_txt(txt1, txt2):\n",
    "    print(txt1 + txt2)\n",
    "\n",
    "# 25가 출력됨\n",
    "\n",
    "ans = add_number(10, 15)\n",
    "print(ans)\n",
    "\n",
    "# ‘대한민국~만세!!’가 출력됨\n",
    "\n",
    "text1 = '대한민국~'\n",
    "text2 ='만세!!'\n",
    "add_txt(text1, text2)"
   ]
  },
  {
   "cell_type": "code",
   "execution_count": 40,
   "metadata": {},
   "outputs": [
    {
     "name": "stdout",
     "output_type": "stream",
     "text": [
      "()\n",
      "(3, 5, 1, 5)\n",
      "{}\n",
      "{'depth': 50, 'color': 'blue'}\n"
     ]
    }
   ],
   "source": [
    "# Ex2\n",
    "\n",
    "def func1(*rest):\n",
    "    return rest\n",
    "\n",
    "def func2(*arg, **kwarg):\n",
    "    return kwarg\n",
    "\n",
    "# 빈 튜플 ( ) 이 출력됨\n",
    "\n",
    "print(func1())\n",
    "\n",
    "# (3, 5, 1, 5)가 출력됨\n",
    "\n",
    "print(func1(3, 5, 1, 5))\n",
    "\n",
    "# 빈 사전 { }이 출력됨\n",
    "\n",
    "print(func2(10, 20))\n",
    "\n",
    "#{‘depth’:50, ‘color’:’blue’} 이 출력됨\n",
    "\n",
    "print(func2(10, 20, depth = 50, color = 'blue'))"
   ]
  },
  {
   "cell_type": "code",
   "execution_count": 49,
   "metadata": {},
   "outputs": [
    {
     "name": "stdout",
     "output_type": "stream",
     "text": [
      "good morning Everyone\n",
      "good morning Mr. Park\n"
     ]
    }
   ],
   "source": [
    "# Ex3\n",
    "\n",
    "def report(txt1, who = 'Everyone'):\n",
    "    print(txt1, who)\n",
    "\n",
    "report('good morning')\n",
    "report('good morning', 'Mr. Park')\n"
   ]
  },
  {
   "cell_type": "code",
   "execution_count": 50,
   "metadata": {},
   "outputs": [
    {
     "name": "stdout",
     "output_type": "stream",
     "text": [
      "[2, 4]\n",
      "[-12, 2, 48, 20]\n"
     ]
    }
   ],
   "source": [
    "# Ex4\n",
    "\n",
    "# continue를 이용해서 iterables를 받아서 짝수만 출력하는 함수\n",
    "\n",
    "def select_even(*arg):\n",
    "    result = []\n",
    "    for num in arg:\n",
    "        if num%2 == 1:\n",
    "            continue\n",
    "        result.append(num)\n",
    "    return result\n",
    "\n",
    "print(select_even(1,2,3,4))\n",
    "print(select_even(-12, 2, 81, 99, 48, 20))\n"
   ]
  },
  {
   "cell_type": "code",
   "execution_count": 12,
   "metadata": {},
   "outputs": [
    {
     "name": "stdout",
     "output_type": "stream",
     "text": [
      "(0, 9)\n"
     ]
    }
   ],
   "source": [
    "# Ex5\n",
    "\n",
    "def minmax(numbers):\n",
    "    return(min(numbers), max(numbers))\n",
    "\n",
    "nums = range(10)\n",
    "print(minmax(nums))"
   ]
  },
  {
   "cell_type": "code",
   "execution_count": 52,
   "metadata": {},
   "outputs": [
    {
     "name": "stdout",
     "output_type": "stream",
     "text": [
      "args = (1, 2, 2, 5)\n",
      "kwargs = {'a': 12, 'b': 13}\n"
     ]
    }
   ],
   "source": [
    "# Ex6\n",
    "\n",
    "def varSum(*arg, **kwarg):\n",
    "    \n",
    "    print('args =', arg)\n",
    "    \n",
    "    print('kwargs =', kwarg)\n",
    "\n",
    "varSum(1,2,2,5, a=12, b=13)"
   ]
  }
 ],
 "metadata": {
  "kernelspec": {
   "display_name": "Python 3",
   "language": "python",
   "name": "python3"
  },
  "language_info": {
   "codemirror_mode": {
    "name": "ipython",
    "version": 3
   },
   "file_extension": ".py",
   "mimetype": "text/x-python",
   "name": "python",
   "nbconvert_exporter": "python",
   "pygments_lexer": "ipython3",
   "version": "3.6.5"
  }
 },
 "nbformat": 4,
 "nbformat_minor": 2
}
