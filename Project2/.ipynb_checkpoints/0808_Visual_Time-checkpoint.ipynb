{
 "cells": [
  {
   "cell_type": "code",
   "execution_count": 17,
   "metadata": {},
   "outputs": [],
   "source": [
    "import pandas as pd\n",
    "import numpy as np\n",
    "import matplotlib.pyplot as plt\n",
    "%matplotlib inline"
   ]
  },
  {
   "cell_type": "code",
   "execution_count": 7,
   "metadata": {},
   "outputs": [
    {
     "data": {
      "text/html": [
       "<div>\n",
       "<style scoped>\n",
       "    .dataframe tbody tr th:only-of-type {\n",
       "        vertical-align: middle;\n",
       "    }\n",
       "\n",
       "    .dataframe tbody tr th {\n",
       "        vertical-align: top;\n",
       "    }\n",
       "\n",
       "    .dataframe thead th {\n",
       "        text-align: right;\n",
       "    }\n",
       "</style>\n",
       "<table border=\"1\" class=\"dataframe\">\n",
       "  <thead>\n",
       "    <tr style=\"text-align: right;\">\n",
       "      <th></th>\n",
       "      <th>age</th>\n",
       "      <th>careNm</th>\n",
       "      <th>color</th>\n",
       "      <th>neuter</th>\n",
       "      <th>sexCd</th>\n",
       "      <th>kind</th>\n",
       "      <th>care1</th>\n",
       "      <th>care2</th>\n",
       "      <th>care3</th>\n",
       "      <th>weight</th>\n",
       "      <th>...</th>\n",
       "      <th>item</th>\n",
       "      <th>보호중</th>\n",
       "      <th>기증</th>\n",
       "      <th>미포획</th>\n",
       "      <th>반환</th>\n",
       "      <th>방사</th>\n",
       "      <th>안락사</th>\n",
       "      <th>입양</th>\n",
       "      <th>자연사</th>\n",
       "      <th>Unnamed: 26</th>\n",
       "    </tr>\n",
       "  </thead>\n",
       "  <tbody>\n",
       "    <tr>\n",
       "      <th>0</th>\n",
       "      <td>2017</td>\n",
       "      <td>천안시유기동물보호소</td>\n",
       "      <td>B</td>\n",
       "      <td>N</td>\n",
       "      <td>M</td>\n",
       "      <td>고양이</td>\n",
       "      <td>충청남도</td>\n",
       "      <td>천안시</td>\n",
       "      <td>동남구</td>\n",
       "      <td>0.9</td>\n",
       "      <td>...</td>\n",
       "      <td>0</td>\n",
       "      <td>0</td>\n",
       "      <td>0</td>\n",
       "      <td>0</td>\n",
       "      <td>0</td>\n",
       "      <td>0</td>\n",
       "      <td>0</td>\n",
       "      <td>1</td>\n",
       "      <td>0</td>\n",
       "      <td>NaN</td>\n",
       "    </tr>\n",
       "    <tr>\n",
       "      <th>1</th>\n",
       "      <td>2015</td>\n",
       "      <td>천안시유기동물보호소</td>\n",
       "      <td>M</td>\n",
       "      <td>N</td>\n",
       "      <td>F</td>\n",
       "      <td>개</td>\n",
       "      <td>충청남도</td>\n",
       "      <td>천안시</td>\n",
       "      <td>동남구</td>\n",
       "      <td>4.2</td>\n",
       "      <td>...</td>\n",
       "      <td>0</td>\n",
       "      <td>1</td>\n",
       "      <td>0</td>\n",
       "      <td>0</td>\n",
       "      <td>0</td>\n",
       "      <td>0</td>\n",
       "      <td>0</td>\n",
       "      <td>0</td>\n",
       "      <td>0</td>\n",
       "      <td>NaN</td>\n",
       "    </tr>\n",
       "    <tr>\n",
       "      <th>2</th>\n",
       "      <td>2015</td>\n",
       "      <td>창녕 유기동물보호소</td>\n",
       "      <td>M</td>\n",
       "      <td>N</td>\n",
       "      <td>F</td>\n",
       "      <td>개</td>\n",
       "      <td>경상남도</td>\n",
       "      <td>창녕군</td>\n",
       "      <td>영산면</td>\n",
       "      <td>20.0</td>\n",
       "      <td>...</td>\n",
       "      <td>0</td>\n",
       "      <td>0</td>\n",
       "      <td>0</td>\n",
       "      <td>0</td>\n",
       "      <td>0</td>\n",
       "      <td>0</td>\n",
       "      <td>1</td>\n",
       "      <td>0</td>\n",
       "      <td>0</td>\n",
       "      <td>NaN</td>\n",
       "    </tr>\n",
       "    <tr>\n",
       "      <th>3</th>\n",
       "      <td>2013</td>\n",
       "      <td>창녕 유기동물보호소</td>\n",
       "      <td>W</td>\n",
       "      <td>N</td>\n",
       "      <td>M</td>\n",
       "      <td>개</td>\n",
       "      <td>경상남도</td>\n",
       "      <td>창녕군</td>\n",
       "      <td>영산면</td>\n",
       "      <td>25.0</td>\n",
       "      <td>...</td>\n",
       "      <td>0</td>\n",
       "      <td>0</td>\n",
       "      <td>0</td>\n",
       "      <td>0</td>\n",
       "      <td>0</td>\n",
       "      <td>0</td>\n",
       "      <td>0</td>\n",
       "      <td>1</td>\n",
       "      <td>0</td>\n",
       "      <td>NaN</td>\n",
       "    </tr>\n",
       "    <tr>\n",
       "      <th>4</th>\n",
       "      <td>2018</td>\n",
       "      <td>창녕 유기동물보호소</td>\n",
       "      <td>Y</td>\n",
       "      <td>N</td>\n",
       "      <td>F</td>\n",
       "      <td>개</td>\n",
       "      <td>경상남도</td>\n",
       "      <td>창녕군</td>\n",
       "      <td>영산면</td>\n",
       "      <td>0.2</td>\n",
       "      <td>...</td>\n",
       "      <td>0</td>\n",
       "      <td>0</td>\n",
       "      <td>0</td>\n",
       "      <td>0</td>\n",
       "      <td>0</td>\n",
       "      <td>0</td>\n",
       "      <td>0</td>\n",
       "      <td>0</td>\n",
       "      <td>1</td>\n",
       "      <td>NaN</td>\n",
       "    </tr>\n",
       "  </tbody>\n",
       "</table>\n",
       "<p>5 rows × 26 columns</p>\n",
       "</div>"
      ],
      "text/plain": [
       "    age      careNm color neuter sexCd kind care1 care2 care3  weight  \\\n",
       "0  2017  천안시유기동물보호소     B      N     M  고양이  충청남도   천안시   동남구     0.9   \n",
       "1  2015  천안시유기동물보호소     M      N     F    개  충청남도   천안시   동남구     4.2   \n",
       "2  2015  창녕 유기동물보호소     M      N     F    개  경상남도   창녕군   영산면    20.0   \n",
       "3  2013  창녕 유기동물보호소     W      N     M    개  경상남도   창녕군   영산면    25.0   \n",
       "4  2018  창녕 유기동물보호소     Y      N     F    개  경상남도   창녕군   영산면     0.2   \n",
       "\n",
       "      ...       item  보호중  기증  미포획  반환  방사  안락사  입양  자연사  Unnamed: 26  \n",
       "0     ...          0    0   0    0   0   0    0   1    0          NaN  \n",
       "1     ...          0    1   0    0   0   0    0   0    0          NaN  \n",
       "2     ...          0    0   0    0   0   0    1   0    0          NaN  \n",
       "3     ...          0    0   0    0   0   0    0   1    0          NaN  \n",
       "4     ...          0    0   0    0   0   0    0   0    1          NaN  \n",
       "\n",
       "[5 rows x 26 columns]"
      ]
     },
     "execution_count": 7,
     "metadata": {},
     "output_type": "execute_result"
    }
   ],
   "source": [
    "data = pd.read_csv('pre_result2.txt')\n",
    "data = data.drop(['Unnamed: 0'], axis = 1)\n",
    "data.head()"
   ]
  },
  {
   "cell_type": "code",
   "execution_count": 8,
   "metadata": {
    "scrolled": true
   },
   "outputs": [
    {
     "name": "stdout",
     "output_type": "stream",
     "text": [
      "<class 'pandas.core.frame.DataFrame'>\n",
      "RangeIndex: 152949 entries, 0 to 152948\n",
      "Data columns (total 26 columns):\n",
      "age            152949 non-null int64\n",
      "careNm         152949 non-null object\n",
      "color          152949 non-null object\n",
      "neuter         152949 non-null object\n",
      "sexCd          152949 non-null object\n",
      "kind           152949 non-null object\n",
      "care1          152949 non-null object\n",
      "care2          152949 non-null object\n",
      "care3          152949 non-null object\n",
      "weight         152109 non-null float64\n",
      "hapY           152949 non-null int64\n",
      "hapM           152949 non-null int64\n",
      "hapD           152949 non-null int64\n",
      "sad            152949 non-null int64\n",
      "good           152949 non-null int64\n",
      "safe           152949 non-null int64\n",
      "item           152949 non-null int64\n",
      "보호중            152949 non-null int64\n",
      "기증             152949 non-null int64\n",
      "미포획            152949 non-null int64\n",
      "반환             152949 non-null int64\n",
      "방사             152949 non-null int64\n",
      "안락사            152949 non-null int64\n",
      "입양             152949 non-null int64\n",
      "자연사            152949 non-null int64\n",
      "Unnamed: 26    57 non-null float64\n",
      "dtypes: float64(2), int64(16), object(8)\n",
      "memory usage: 30.3+ MB\n"
     ]
    }
   ],
   "source": [
    "data.info()"
   ]
  },
  {
   "cell_type": "markdown",
   "metadata": {},
   "source": [
    "## 2017년 유기동물 발생 빈도 그래프"
   ]
  },
  {
   "cell_type": "code",
   "execution_count": 21,
   "metadata": {},
   "outputs": [
    {
     "name": "stdout",
     "output_type": "stream",
     "text": [
      "<class 'pandas.core.frame.DataFrame'>\n",
      "Int64Index: 92224 entries, 0 to 152948\n",
      "Data columns (total 26 columns):\n",
      "age            92224 non-null int64\n",
      "careNm         92224 non-null object\n",
      "color          92224 non-null object\n",
      "neuter         92224 non-null object\n",
      "sexCd          92224 non-null object\n",
      "kind           92224 non-null object\n",
      "care1          92224 non-null object\n",
      "care2          92224 non-null object\n",
      "care3          92224 non-null object\n",
      "weight         91790 non-null float64\n",
      "hapY           92224 non-null int64\n",
      "hapM           92224 non-null int64\n",
      "hapD           92224 non-null int64\n",
      "sad            92224 non-null int64\n",
      "good           92224 non-null int64\n",
      "safe           92224 non-null int64\n",
      "item           92224 non-null int64\n",
      "보호중            92224 non-null int64\n",
      "기증             92224 non-null int64\n",
      "미포획            92224 non-null int64\n",
      "반환             92224 non-null int64\n",
      "방사             92224 non-null int64\n",
      "안락사            92224 non-null int64\n",
      "입양             92224 non-null int64\n",
      "자연사            92224 non-null int64\n",
      "Unnamed: 26    0 non-null float64\n",
      "dtypes: float64(2), int64(16), object(8)\n",
      "memory usage: 19.0+ MB\n"
     ]
    }
   ],
   "source": [
    "data_2017 = data[data['hapY'] == 2017]\n",
    "data_2017.info()"
   ]
  },
  {
   "cell_type": "code",
   "execution_count": 14,
   "metadata": {},
   "outputs": [],
   "source": [
    "data_2017_occur = data_2017.groupby(['hapM'])['age'].count()"
   ]
  },
  {
   "cell_type": "code",
   "execution_count": 16,
   "metadata": {},
   "outputs": [
    {
     "data": {
      "text/plain": [
       "hapM\n",
       "1      4281\n",
       "2      4923\n",
       "3      6173\n",
       "4      7181\n",
       "5      9288\n",
       "6      9154\n",
       "7     10138\n",
       "8     10414\n",
       "9      9315\n",
       "10     7773\n",
       "11     7499\n",
       "12     6085\n",
       "Name: age, dtype: int64"
      ]
     },
     "execution_count": 16,
     "metadata": {},
     "output_type": "execute_result"
    }
   ],
   "source": [
    "data_2017_occur"
   ]
  },
  {
   "cell_type": "code",
   "execution_count": 34,
   "metadata": {
    "scrolled": true
   },
   "outputs": [
    {
     "data": {
      "image/png": "[encoded data removed]",
      "text/plain": [
       "<Figure size 864x288 with 1 Axes>"
      ]
     },
     "metadata": {},
     "output_type": "display_data"
    }
   ],
   "source": [
    "plt.rcParams[\"figure.figsize\"] = (12,4)\n",
    "plt.rcParams['lines.linewidth'] = 2\n",
    "plt.plot(data_2017_occur, color = 'b');\n",
    "\n",
    "# 2017년에는 7 ~ 8월에 가장 많이 유기가 발생했다는 점을 알 수 있다."
   ]
  },
  {
   "cell_type": "markdown",
   "metadata": {},
   "source": [
    "## 2018년 유기동물 발생 빈도 그래프"
   ]
  },
  {
   "cell_type": "code",
   "execution_count": 22,
   "metadata": {},
   "outputs": [
    {
     "name": "stdout",
     "output_type": "stream",
     "text": [
      "<class 'pandas.core.frame.DataFrame'>\n",
      "Int64Index: 60725 entries, 2 to 152943\n",
      "Data columns (total 26 columns):\n",
      "age            60725 non-null int64\n",
      "careNm         60725 non-null object\n",
      "color          60725 non-null object\n",
      "neuter         60725 non-null object\n",
      "sexCd          60725 non-null object\n",
      "kind           60725 non-null object\n",
      "care1          60725 non-null object\n",
      "care2          60725 non-null object\n",
      "care3          60725 non-null object\n",
      "weight         60319 non-null float64\n",
      "hapY           60725 non-null int64\n",
      "hapM           60725 non-null int64\n",
      "hapD           60725 non-null int64\n",
      "sad            60725 non-null int64\n",
      "good           60725 non-null int64\n",
      "safe           60725 non-null int64\n",
      "item           60725 non-null int64\n",
      "보호중            60725 non-null int64\n",
      "기증             60725 non-null int64\n",
      "미포획            60725 non-null int64\n",
      "반환             60725 non-null int64\n",
      "방사             60725 non-null int64\n",
      "안락사            60725 non-null int64\n",
      "입양             60725 non-null int64\n",
      "자연사            60725 non-null int64\n",
      "Unnamed: 26    57 non-null float64\n",
      "dtypes: float64(2), int64(16), object(8)\n",
      "memory usage: 12.5+ MB\n"
     ]
    }
   ],
   "source": [
    "data_2018 = data[data['hapY'] == 2018]\n",
    "data_2018.info()"
   ]
  },
  {
   "cell_type": "code",
   "execution_count": 23,
   "metadata": {},
   "outputs": [],
   "source": [
    "data_2018_occur = data_2018.groupby(['hapM'])['age'].count()"
   ]
  },
  {
   "cell_type": "code",
   "execution_count": 24,
   "metadata": {},
   "outputs": [
    {
     "data": {
      "text/plain": [
       "hapM\n",
       "1     6719\n",
       "2     5806\n",
       "3     8085\n",
       "4     8992\n",
       "5    11095\n",
       "6    10612\n",
       "7     9416\n",
       "Name: age, dtype: int64"
      ]
     },
     "execution_count": 24,
     "metadata": {},
     "output_type": "execute_result"
    }
   ],
   "source": [
    "data_2018_occur"
   ]
  },
  {
   "cell_type": "code",
   "execution_count": 33,
   "metadata": {},
   "outputs": [
    {
     "data": {
      "image/png": "[encoded data removed]",
      "text/plain": [
       "<Figure size 504x288 with 1 Axes>"
      ]
     },
     "metadata": {},
     "output_type": "display_data"
    }
   ],
   "source": [
    "plt.rcParams[\"figure.figsize\"] = (7,4)\n",
    "plt.rcParams['lines.linewidth'] = 2\n",
    "plt.plot(data_2018_occur, color = 'b');"
   ]
  },
  {
   "cell_type": "markdown",
   "metadata": {},
   "source": [
    "## 2017 / 2018 기간별 유기동물 발생건수 비교"
   ]
  },
  {
   "cell_type": "code",
   "execution_count": 32,
   "metadata": {},
   "outputs": [
    {
     "data": {
      "image/png": "[encoded data removed]",
      "text/plain": [
       "<Figure size 864x288 with 1 Axes>"
      ]
     },
     "metadata": {},
     "output_type": "display_data"
    }
   ],
   "source": [
    "plt.rcParams[\"figure.figsize\"] = (12,4)\n",
    "plt.rcParams['lines.linewidth'] = 2\n",
    "plt.plot(data_2017_occur, color=\"b\", linestyle=\"dashed\")\n",
    "plt.plot(data_2018_occur, color=\"r\", linestyle=\"dotted\");"
   ]
  },
  {
   "cell_type": "markdown",
   "metadata": {},
   "source": [
    "## 2017 기간별 안락사율 / 입양률 그래프"
   ]
  },
  {
   "cell_type": "code",
   "execution_count": 56,
   "metadata": {},
   "outputs": [],
   "source": [
    "data_2017_adopt_rate = data_2017.groupby(['hapM'])['입양'].apply(lambda x : (x==1).sum()/x.count())"
   ]
  },
  {
   "cell_type": "code",
   "execution_count": 57,
   "metadata": {},
   "outputs": [],
   "source": [
    "data_2017_euthanasia_rate = data_2017.groupby(['hapM'])['안락사'].apply(lambda x : (x==1).sum()/x.count())"
   ]
  },
  {
   "cell_type": "code",
   "execution_count": 49,
   "metadata": {},
   "outputs": [
    {
     "data": {
      "text/plain": [
       "hapM\n",
       "1     0.384957\n",
       "2     0.392444\n",
       "3     0.395432\n",
       "4     0.361510\n",
       "5     0.325043\n",
       "6     0.287743\n",
       "7     0.271651\n",
       "8     0.287786\n",
       "9     0.277402\n",
       "10    0.282645\n",
       "11    0.285238\n",
       "12    0.296960\n",
       "Name: 입양, dtype: float64"
      ]
     },
     "execution_count": 49,
     "metadata": {},
     "output_type": "execute_result"
    }
   ],
   "source": [
    "data_2017_adopt_rate"
   ]
  },
  {
   "cell_type": "code",
   "execution_count": 52,
   "metadata": {
    "scrolled": true
   },
   "outputs": [
    {
     "data": {
      "text/plain": [
       "hapM\n",
       "1     0.193646\n",
       "2     0.197847\n",
       "3     0.190021\n",
       "4     0.174070\n",
       "5     0.157515\n",
       "6     0.177081\n",
       "7     0.205761\n",
       "8     0.224601\n",
       "9     0.186581\n",
       "10    0.191689\n",
       "11    0.205627\n",
       "12    0.222186\n",
       "Name: 안락사, dtype: float64"
      ]
     },
     "execution_count": 52,
     "metadata": {},
     "output_type": "execute_result"
    }
   ],
   "source": [
    "data_2017_euthanasia_rate"
   ]
  },
  {
   "cell_type": "code",
   "execution_count": 63,
   "metadata": {},
   "outputs": [
    {
     "data": {
      "image/png": "[encoded data removed]",
      "text/plain": [
       "<Figure size 864x288 with 1 Axes>"
      ]
     },
     "metadata": {},
     "output_type": "display_data"
    }
   ],
   "source": [
    "plt.rcParams[\"figure.figsize\"] = (12,4)\n",
    "plt.rcParams['lines.linewidth'] = 2\n",
    "plt.plot(data_2017_euthanasia_rate, color = 'b');\n",
    "\n",
    "# 안락사율은 유기동물이 많이 발생하는 7~8월에 가장 높다. 그 이후, 12월에도 비슷하게 높은 수치를 보인다.\n",
    "# 7~8월에 높은 이유는 유기동물이 많이 발생하여 수용이 더이상 불가능하기 때문으로 보이며,\n",
    "# 12월에 높은 이유는 낮아지는 온도로 인해 병이 악화되는 동물이 많아져서가 아닐까 싶다"
   ]
  },
  {
   "cell_type": "code",
   "execution_count": 50,
   "metadata": {},
   "outputs": [
    {
     "data": {
      "image/png": "[encoded data removed]",
      "text/plain": [
       "<Figure size 864x288 with 1 Axes>"
      ]
     },
     "metadata": {},
     "output_type": "display_data"
    }
   ],
   "source": [
    "plt.rcParams[\"figure.figsize\"] = (12,4)\n",
    "plt.rcParams['lines.linewidth'] = 2\n",
    "plt.plot(data_2017_adopt_rate, color = 'b');\n",
    "\n",
    "# 입양률은 3~4 월에 높으며, 7~8월에 낮다. 이는 유기동물의 발생 건수와 연관이 있는 것으로 보인다."
   ]
  },
  {
   "cell_type": "markdown",
   "metadata": {},
   "source": [
    "## 2018 기간별 안락사율 / 입양률 그래프"
   ]
  },
  {
   "cell_type": "code",
   "execution_count": 59,
   "metadata": {},
   "outputs": [],
   "source": [
    "data_2018_adopt_rate = data_2018.groupby(['hapM'])['입양'].apply(lambda x : (x==1).sum()/x.count())"
   ]
  },
  {
   "cell_type": "code",
   "execution_count": 60,
   "metadata": {},
   "outputs": [],
   "source": [
    "data_2018_euthanasia_rate = data_2018.groupby(['hapM'])['안락사'].apply(lambda x : (x==1).sum()/x.count())"
   ]
  },
  {
   "cell_type": "code",
   "execution_count": 61,
   "metadata": {},
   "outputs": [
    {
     "data": {
      "text/plain": [
       "hapM\n",
       "1    0.309570\n",
       "2    0.328798\n",
       "3    0.341002\n",
       "4    0.310165\n",
       "5    0.276431\n",
       "6    0.228044\n",
       "7    0.112893\n",
       "Name: 입양, dtype: float64"
      ]
     },
     "execution_count": 61,
     "metadata": {},
     "output_type": "execute_result"
    }
   ],
   "source": [
    "data_2018_adopt_rate"
   ]
  },
  {
   "cell_type": "code",
   "execution_count": 62,
   "metadata": {},
   "outputs": [
    {
     "data": {
      "text/plain": [
       "hapM\n",
       "1    0.221759\n",
       "2    0.205994\n",
       "3    0.216079\n",
       "4    0.186165\n",
       "5    0.156377\n",
       "6    0.133905\n",
       "7    0.058517\n",
       "Name: 안락사, dtype: float64"
      ]
     },
     "execution_count": 62,
     "metadata": {},
     "output_type": "execute_result"
    }
   ],
   "source": [
    "data_2018_euthanasia_rate"
   ]
  },
  {
   "cell_type": "code",
   "execution_count": 65,
   "metadata": {},
   "outputs": [
    {
     "data": {
      "image/png": "[encoded data removed]",
      "text/plain": [
       "<Figure size 504x288 with 1 Axes>"
      ]
     },
     "metadata": {},
     "output_type": "display_data"
    }
   ],
   "source": [
    "plt.rcParams[\"figure.figsize\"] = (7,4)\n",
    "plt.rcParams['lines.linewidth'] = 2\n",
    "plt.plot(data_2018_euthanasia_rate, color = 'b');\n",
    "\n",
    "# 7월에 급격하게 감소하는 이유는, 비교적 최근의 데이터로 아직까지 보호중이기 때문으로 보인다.\n",
    "# 현재가 8월이므로 9~10월 정도에 다시 조사하게 되면 해당 기간(7~8월)의 안락사율이 높게 나올 것으로 추정된다"
   ]
  },
  {
   "cell_type": "code",
   "execution_count": 67,
   "metadata": {},
   "outputs": [
    {
     "data": {
      "image/png": "[encoded data removed]",
      "text/plain": [
       "<Figure size 504x288 with 1 Axes>"
      ]
     },
     "metadata": {},
     "output_type": "display_data"
    }
   ],
   "source": [
    "plt.rcParams[\"figure.figsize\"] = (7,4)\n",
    "plt.rcParams['lines.linewidth'] = 2\n",
    "plt.plot(data_2018_adopt_rate, color = 'b');\n"
   ]
  },
  {
   "cell_type": "markdown",
   "metadata": {},
   "source": [
    "## 2017 - 2018 기간별 안락사율 / 입양률 비교 그래프"
   ]
  },
  {
   "cell_type": "code",
   "execution_count": 68,
   "metadata": {},
   "outputs": [
    {
     "data": {
      "image/png": "[encoded data removed]",
      "text/plain": [
       "<Figure size 864x288 with 1 Axes>"
      ]
     },
     "metadata": {},
     "output_type": "display_data"
    }
   ],
   "source": [
    "plt.rcParams[\"figure.figsize\"] = (12,4)\n",
    "plt.rcParams['lines.linewidth'] = 2\n",
    "plt.plot(data_2017_euthanasia_rate, color=\"b\", linestyle=\"dashed\")\n",
    "plt.plot(data_2018_euthanasia_rate, color=\"r\", linestyle=\"dotted\");"
   ]
  },
  {
   "cell_type": "code",
   "execution_count": 69,
   "metadata": {},
   "outputs": [
    {
     "data": {
      "image/png": "[encoded data removed]",
      "text/plain": [
       "<Figure size 864x288 with 1 Axes>"
      ]
     },
     "metadata": {},
     "output_type": "display_data"
    }
   ],
   "source": [
    "plt.rcParams[\"figure.figsize\"] = (12,4)\n",
    "plt.rcParams['lines.linewidth'] = 2\n",
    "plt.plot(data_2017_adopt_rate, color=\"b\", linestyle=\"dashed\")\n",
    "plt.plot(data_2018_adopt_rate, color=\"r\", linestyle=\"dotted\");"
   ]
  },
  {
   "cell_type": "markdown",
   "metadata": {},
   "source": [
    "## 중성화 여부에 따른 안락사 / 입양 / 반환율 조사"
   ]
  },
  {
   "cell_type": "code",
   "execution_count": 86,
   "metadata": {},
   "outputs": [],
   "source": [
    "data_neuter_euthanasia_rate = data.groupby(['neuter'])['안락사'].apply(lambda x : (x==1).sum()/x.count())"
   ]
  },
  {
   "cell_type": "code",
   "execution_count": 88,
   "metadata": {},
   "outputs": [],
   "source": [
    "data_neuter_adopt_rate = data.groupby(['neuter'])['입양'].apply(lambda x : (x==1).sum()/x.count())"
   ]
  },
  {
   "cell_type": "code",
   "execution_count": 90,
   "metadata": {},
   "outputs": [],
   "source": [
    "data_neuter_return_rate = data.groupby(['neuter'])['반환'].apply(lambda x : (x==1).sum()/x.count())"
   ]
  },
  {
   "cell_type": "code",
   "execution_count": 87,
   "metadata": {},
   "outputs": [
    {
     "data": {
      "text/plain": [
       "neuter\n",
       "N    0.178566\n",
       "U    0.189691\n",
       "Y    0.154217\n",
       "Name: 안락사, dtype: float64"
      ]
     },
     "execution_count": 87,
     "metadata": {},
     "output_type": "execute_result"
    }
   ],
   "source": [
    "data_neuter_euthanasia_rate"
   ]
  },
  {
   "cell_type": "code",
   "execution_count": 89,
   "metadata": {},
   "outputs": [
    {
     "data": {
      "text/plain": [
       "neuter\n",
       "N    0.308887\n",
       "U    0.262091\n",
       "Y    0.305611\n",
       "Name: 입양, dtype: float64"
      ]
     },
     "execution_count": 89,
     "metadata": {},
     "output_type": "execute_result"
    }
   ],
   "source": [
    "data_neuter_adopt_rate"
   ]
  },
  {
   "cell_type": "code",
   "execution_count": 91,
   "metadata": {
    "scrolled": true
   },
   "outputs": [
    {
     "data": {
      "text/plain": [
       "neuter\n",
       "N    0.114229\n",
       "U    0.157290\n",
       "Y    0.356076\n",
       "Name: 반환, dtype: float64"
      ]
     },
     "execution_count": 91,
     "metadata": {},
     "output_type": "execute_result"
    }
   ],
   "source": [
    "data_neuter_return_rate\n",
    "# 중성화된 동물이 반환율이 높다는 점을 알 수 있다!"
   ]
  },
  {
   "cell_type": "code",
   "execution_count": 96,
   "metadata": {},
   "outputs": [
    {
     "data": {
      "image/png": "[encoded data removed]",
      "text/plain": [
       "<Figure size 864x288 with 1 Axes>"
      ]
     },
     "metadata": {},
     "output_type": "display_data"
    }
   ],
   "source": [
    "X = range(3)\n",
    "plt.bar(X, data_neuter_return_rate);"
   ]
  },
  {
   "cell_type": "code",
   "execution_count": 103,
   "metadata": {},
   "outputs": [
    {
     "data": {
      "text/plain": [
       "<matplotlib.axes._subplots.AxesSubplot at 0x12bbe7eb8>"
      ]
     },
     "execution_count": 103,
     "metadata": {},
     "output_type": "execute_result"
    },
    {
     "data": {
      "image/png": "[encoded data removed]",
      "text/plain": [
       "<Figure size 1440x1080 with 1 Axes>"
      ]
     },
     "metadata": {},
     "output_type": "display_data"
    }
   ],
   "source": [
    "data['weight'].hist(bins = 100, figsize=(20, 15))"
   ]
  },
  {
   "cell_type": "code",
   "execution_count": 106,
   "metadata": {
    "scrolled": true
   },
   "outputs": [
    {
     "data": {
      "text/plain": [
       "<matplotlib.axes._subplots.AxesSubplot at 0x12c6c8a20>"
      ]
     },
     "execution_count": 106,
     "metadata": {},
     "output_type": "execute_result"
    },
    {
     "data": {
      "image/png": "[encoded data removed]",
      "text/plain": [
       "<Figure size 864x288 with 1 Axes>"
      ]
     },
     "metadata": {},
     "output_type": "display_data"
    }
   ],
   "source": [
    "data_2017_euthanasia_rate.hist()"
   ]
  },
  {
   "cell_type": "code",
   "execution_count": 109,
   "metadata": {},
   "outputs": [
    {
     "data": {
      "text/plain": [
       "array(['충청남도', '경상남도', '경기도', '경상북도', '전라북도', '강원도', '대전광역시', '전라남도',\n",
       "       '충청북도', '울산광역시', '광주광역시', '대구광역시', '부산광역시', '서울특별시', '인천광역시',\n",
       "       '세종특별자치시', '제주특별자치도'], dtype=object)"
      ]
     },
     "execution_count": 109,
     "metadata": {},
     "output_type": "execute_result"
    }
   ],
   "source": [
    "data['care1'].unique()"
   ]
  },
  {
   "cell_type": "code",
   "execution_count": 124,
   "metadata": {
    "scrolled": true
   },
   "outputs": [
    {
     "data": {
      "text/plain": [
       "care1\n",
       "서울특별시      0.455472\n",
       "충청북도       0.385530\n",
       "제주특별자치도    0.375000\n",
       "전라북도       0.356553\n",
       "세종특별자치시    0.347349\n",
       "경상북도       0.347104\n",
       "강원도        0.342943\n",
       "충청남도       0.328553\n",
       "대구광역시      0.313933\n",
       "경기도        0.304051\n",
       "인천광역시      0.298078\n",
       "경상남도       0.297923\n",
       "전라남도       0.262972\n",
       "울산광역시      0.227814\n",
       "광주광역시      0.216912\n",
       "대전광역시      0.203453\n",
       "부산광역시      0.149697\n",
       "Name: 입양, dtype: float64"
      ]
     },
     "execution_count": 124,
     "metadata": {},
     "output_type": "execute_result"
    }
   ],
   "source": [
    "data_city_euthanasia_rate = data.groupby(['care1'])['입양'].apply(lambda x : (x==1).sum()/x.count())\n",
    "data_city_euthanasia_rate.sort_values(ascending = False)"
   ]
  },
  {
   "cell_type": "code",
   "execution_count": null,
   "metadata": {},
   "outputs": [],
   "source": []
  }
 ],
 "metadata": {
  "kernelspec": {
   "display_name": "Python 3",
   "language": "python",
   "name": "python3"
  },
  "language_info": {
   "codemirror_mode": {
    "name": "ipython",
    "version": 3
   },
   "file_extension": ".py",
   "mimetype": "text/x-python",
   "name": "python",
   "nbconvert_exporter": "python",
   "pygments_lexer": "ipython3",
   "version": "3.6.5"
  }
 },
 "nbformat": 4,
 "nbformat_minor": 2
}
